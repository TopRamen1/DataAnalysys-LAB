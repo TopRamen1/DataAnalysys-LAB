{
 "cells": [
  {
   "cell_type": "markdown",
   "metadata": {},
   "source": [
    "# Lab 4 - Linear models\n",
    "\n",
    "We focus on models in the form \n",
    "\n",
    "$$ y ~ \\mathrm{Normal}(\\alpha+X\\beta,\\sigma) $$\n",
    "\n",
    "or in generalized form (generalized linear models)\n",
    "\n",
    "$$ f(y) ~ \\mathrm{Normal}(\\alpha+X\\beta,\\sigma) $$\n",
    "\n",
    "where $f(y)$ is a link function, for example - logit.\n"
   ]
  },
  {
   "cell_type": "code",
   "execution_count": 1,
   "metadata": {},
   "outputs": [],
   "source": [
    "from cmdstanpy import CmdStanModel\n",
    "\n",
    "\n",
    "import arviz as az\n",
    "import numpy as np\n",
    "import scipy.stats as stats\n",
    "\n",
    "import matplotlib.pyplot as plt\n",
    "import pandas as pd"
   ]
  },
  {
   "cell_type": "markdown",
   "metadata": {},
   "source": [
    "## Excercise 1 - modelling height of !Kung people"
   ]
  },
  {
   "cell_type": "markdown",
   "metadata": {},
   "source": [
    "### Normal model - no predictors\n",
    "We will try to fit $\\mathrm{Normal}(\\mu,\\sigma)$ distribution to height data. Special case of linear model with $\\beta=0$."
   ]
  },
  {
   "cell_type": "code",
   "execution_count": 2,
   "metadata": {},
   "outputs": [
    {
     "data": {
      "text/html": [
       "<div>\n",
       "<style scoped>\n",
       "    .dataframe tbody tr th:only-of-type {\n",
       "        vertical-align: middle;\n",
       "    }\n",
       "\n",
       "    .dataframe tbody tr th {\n",
       "        vertical-align: top;\n",
       "    }\n",
       "\n",
       "    .dataframe thead th {\n",
       "        text-align: right;\n",
       "    }\n",
       "</style>\n",
       "<table border=\"1\" class=\"dataframe\">\n",
       "  <thead>\n",
       "    <tr style=\"text-align: right;\">\n",
       "      <th></th>\n",
       "      <th>height</th>\n",
       "      <th>weight</th>\n",
       "      <th>age</th>\n",
       "      <th>male</th>\n",
       "    </tr>\n",
       "  </thead>\n",
       "  <tbody>\n",
       "    <tr>\n",
       "      <th>0</th>\n",
       "      <td>151.765</td>\n",
       "      <td>47.825606</td>\n",
       "      <td>63.0</td>\n",
       "      <td>1</td>\n",
       "    </tr>\n",
       "    <tr>\n",
       "      <th>1</th>\n",
       "      <td>139.700</td>\n",
       "      <td>36.485807</td>\n",
       "      <td>63.0</td>\n",
       "      <td>0</td>\n",
       "    </tr>\n",
       "    <tr>\n",
       "      <th>2</th>\n",
       "      <td>136.525</td>\n",
       "      <td>31.864838</td>\n",
       "      <td>65.0</td>\n",
       "      <td>0</td>\n",
       "    </tr>\n",
       "    <tr>\n",
       "      <th>3</th>\n",
       "      <td>156.845</td>\n",
       "      <td>53.041914</td>\n",
       "      <td>41.0</td>\n",
       "      <td>1</td>\n",
       "    </tr>\n",
       "    <tr>\n",
       "      <th>4</th>\n",
       "      <td>145.415</td>\n",
       "      <td>41.276872</td>\n",
       "      <td>51.0</td>\n",
       "      <td>0</td>\n",
       "    </tr>\n",
       "  </tbody>\n",
       "</table>\n",
       "</div>"
      ],
      "text/plain": [
       "    height     weight   age  male\n",
       "0  151.765  47.825606  63.0     1\n",
       "1  139.700  36.485807  63.0     0\n",
       "2  136.525  31.864838  65.0     0\n",
       "3  156.845  53.041914  41.0     1\n",
       "4  145.415  41.276872  51.0     0"
      ]
     },
     "execution_count": 2,
     "metadata": {},
     "output_type": "execute_result"
    }
   ],
   "source": [
    "_BASE_URL = \"https://raw.githubusercontent.com/rmcelreath/rethinking/Experimental/data\"\n",
    "HOWELL_DATASET_PATH = f\"{_BASE_URL}/Howell1.csv\"\n",
    "d = pd.read_csv(HOWELL_DATASET_PATH, sep=';', header=0)\n",
    "d=d[d.age>=18] #just adults \n",
    "d.head()"
   ]
  },
  {
   "cell_type": "code",
   "execution_count": 3,
   "metadata": {},
   "outputs": [
    {
     "name": "stderr",
     "output_type": "stream",
     "text": [
      "INFO:cmdstanpy:found newer exe file, not recompiling\n",
      "INFO:cmdstanpy:CmdStan start processing\n",
      "chain 1 |\u001b[34m██████████\u001b[0m| 00:00 Sampling completed"
     ]
    },
    {
     "name": "stdout",
     "output_type": "stream",
     "text": [
      "                                                                                "
     ]
    },
    {
     "name": "stderr",
     "output_type": "stream",
     "text": [
      "\n",
      "INFO:cmdstanpy:CmdStan done processing.\n"
     ]
    },
    {
     "name": "stdout",
     "output_type": "stream",
     "text": [
      "\n"
     ]
    }
   ],
   "source": [
    "model_ppc=CmdStanModel(stan_file='stan_files/height_1_ppc.stan')\n",
    "\n",
    "R = 1000\n",
    "sim=model_ppc.sample(iter_sampling=R,\n",
    "                     iter_warmup=0,\n",
    "                     chains=1,\n",
    "                     fixed_param=True,\n",
    "                     seed=29042020,refresh=R)"
   ]
  },
  {
   "cell_type": "markdown",
   "metadata": {},
   "source": [
    "#### Task 1. Prior predictive checks\n",
    "\n",
    "1. Plot histograms of mu, sigma and simulated height.\n",
    "2. Plot a joint distribution of mu and sigma.\n",
    "3. Check if samples are consistent with priors\n",
    "4. Check if observed data is possible to obtain using priors."
   ]
  },
  {
   "cell_type": "code",
   "execution_count": 4,
   "metadata": {},
   "outputs": [],
   "source": [
    "def plt_hist(stan_fit,var_name, bins):\n",
    "    plt.hist(stan_fit.stan_variable(var_name), bins=bins)\n",
    "    plt.title(\"Histogram of var: {}\".format(var_name))\n",
    "    plt.show()"
   ]
  },
  {
   "cell_type": "code",
   "execution_count": 5,
   "metadata": {},
   "outputs": [],
   "source": [
    "def plt_joint_dist(stan_fit, var1, var2):\n",
    "    plt.scatter(stan_fit.stan_variable(var1), stan_fit.stan_variable(var2))\n",
    "    plt.title(\"Joint dist of vars: {}, {}\".format(var1, var2))\n",
    "    plt.show()  "
   ]
  },
  {
   "cell_type": "code",
   "execution_count": null,
   "metadata": {},
   "outputs": [],
   "source": []
  },
  {
   "cell_type": "code",
   "execution_count": 6,
   "metadata": {},
   "outputs": [
    {
     "data": {
      "image/png": "[encoded data removed]",
      "text/plain": [
       "<Figure size 432x288 with 1 Axes>"
      ]
     },
     "metadata": {
      "needs_background": "light"
     },
     "output_type": "display_data"
    },
    {
     "data": {
      "image/png": "[encoded data removed]",
      "text/plain": [
       "<Figure size 432x288 with 1 Axes>"
      ]
     },
     "metadata": {
      "needs_background": "light"
     },
     "output_type": "display_data"
    },
    {
     "data": {
      "image/png": "[encoded data removed]",
      "text/plain": [
       "<Figure size 432x288 with 1 Axes>"
      ]
     },
     "metadata": {
      "needs_background": "light"
     },
     "output_type": "display_data"
    }
   ],
   "source": [
    "var_names = ['mu', 'sigma', 'height']\n",
    "bins = 100\n",
    "\n",
    "for v in var_names:\n",
    "    plt_hist(sim, v, bins)"
   ]
  },
  {
   "cell_type": "code",
   "execution_count": 7,
   "metadata": {},
   "outputs": [
    {
     "data": {
      "image/png": "[encoded data removed]",
      "text/plain": [
       "<Figure size 432x288 with 1 Axes>"
      ]
     },
     "metadata": {
      "needs_background": "light"
     },
     "output_type": "display_data"
    }
   ],
   "source": [
    "plt_joint_dist(sim, \"mu\", \"sigma\")"
   ]
  },
  {
   "cell_type": "code",
   "execution_count": 8,
   "metadata": {},
   "outputs": [
    {
     "data": {
      "image/png": "[encoded data removed]",
      "text/plain": [
       "<Figure size 432x288 with 1 Axes>"
      ]
     },
     "metadata": {
      "needs_background": "light"
     },
     "output_type": "display_data"
    },
    {
     "data": {
      "text/plain": [
       "<AxesSubplot:>"
      ]
     },
     "execution_count": 8,
     "metadata": {},
     "output_type": "execute_result"
    },
    {
     "data": {
      "image/png": "[encoded data removed]",
      "text/plain": [
       "<Figure size 432x288 with 1 Axes>"
      ]
     },
     "metadata": {
      "needs_background": "light"
     },
     "output_type": "display_data"
    }
   ],
   "source": [
    "plt_hist(sim, 'height', 100)\n",
    "\n",
    "d.height.hist(bins=100, range=[-50,320])"
   ]
  },
  {
   "cell_type": "code",
   "execution_count": 9,
   "metadata": {},
   "outputs": [
    {
     "name": "stderr",
     "output_type": "stream",
     "text": [
      "INFO:cmdstanpy:found newer exe file, not recompiling\n"
     ]
    }
   ],
   "source": [
    "model_1_fit=CmdStanModel(stan_file='stan_files/height_1_fit.stan')"
   ]
  },
  {
   "cell_type": "code",
   "execution_count": 10,
   "metadata": {},
   "outputs": [
    {
     "name": "stderr",
     "output_type": "stream",
     "text": [
      "INFO:cmdstanpy:CmdStan start processing\n",
      "chain 1 |\u001b[33m          \u001b[0m| 00:00 Status\n",
      "\u001b[A\n",
      "\n",
      "chain 1 |\u001b[34m██████████\u001b[0m| 00:00 Sampling completed\n",
      "chain 2 |\u001b[34m██████████\u001b[0m| 00:00 Sampling completed\n",
      "\n",
      "chain 3 |\u001b[34m██████████\u001b[0m| 00:00 Sampling completed\n",
      "chain 4 |\u001b[34m██████████\u001b[0m| 00:00 Sampling completed"
     ]
    },
    {
     "name": "stdout",
     "output_type": "stream",
     "text": [
      "                                                                                                                                                                                                                                                                                                                                "
     ]
    },
    {
     "name": "stderr",
     "output_type": "stream",
     "text": [
      "\n",
      "INFO:cmdstanpy:CmdStan done processing.\n"
     ]
    },
    {
     "name": "stdout",
     "output_type": "stream",
     "text": [
      "\n"
     ]
    }
   ],
   "source": [
    "fit=model_1_fit.sample(data=dict(N=len(d),\n",
    "                        heights=d.height.values),\n",
    "                        seed=28052020)"
   ]
  },
  {
   "cell_type": "code",
   "execution_count": 33,
   "metadata": {},
   "outputs": [
    {
     "data": {
      "text/html": [
       "<div>\n",
       "<style scoped>\n",
       "    .dataframe tbody tr th:only-of-type {\n",
       "        vertical-align: middle;\n",
       "    }\n",
       "\n",
       "    .dataframe tbody tr th {\n",
       "        vertical-align: top;\n",
       "    }\n",
       "\n",
       "    .dataframe thead th {\n",
       "        text-align: right;\n",
       "    }\n",
       "</style>\n",
       "<table border=\"1\" class=\"dataframe\">\n",
       "  <thead>\n",
       "    <tr style=\"text-align: right;\">\n",
       "      <th></th>\n",
       "      <th>Mean</th>\n",
       "      <th>MCSE</th>\n",
       "      <th>StdDev</th>\n",
       "      <th>5%</th>\n",
       "      <th>50%</th>\n",
       "      <th>95%</th>\n",
       "      <th>N_Eff</th>\n",
       "      <th>N_Eff/s</th>\n",
       "      <th>R_hat</th>\n",
       "    </tr>\n",
       "    <tr>\n",
       "      <th>name</th>\n",
       "      <th></th>\n",
       "      <th></th>\n",
       "      <th></th>\n",
       "      <th></th>\n",
       "      <th></th>\n",
       "      <th></th>\n",
       "      <th></th>\n",
       "      <th></th>\n",
       "      <th></th>\n",
       "    </tr>\n",
       "  </thead>\n",
       "  <tbody>\n",
       "    <tr>\n",
       "      <th>lp__</th>\n",
       "      <td>-900.0</td>\n",
       "      <td>0.0250</td>\n",
       "      <td>0.98</td>\n",
       "      <td>-900.0</td>\n",
       "      <td>-900.0</td>\n",
       "      <td>-900.0</td>\n",
       "      <td>1600.0</td>\n",
       "      <td>14000.0</td>\n",
       "      <td>1.0</td>\n",
       "    </tr>\n",
       "    <tr>\n",
       "      <th>mu</th>\n",
       "      <td>150.0</td>\n",
       "      <td>0.0074</td>\n",
       "      <td>0.41</td>\n",
       "      <td>150.0</td>\n",
       "      <td>150.0</td>\n",
       "      <td>160.0</td>\n",
       "      <td>3100.0</td>\n",
       "      <td>27000.0</td>\n",
       "      <td>1.0</td>\n",
       "    </tr>\n",
       "    <tr>\n",
       "      <th>sigma</th>\n",
       "      <td>7.8</td>\n",
       "      <td>0.0050</td>\n",
       "      <td>0.29</td>\n",
       "      <td>7.3</td>\n",
       "      <td>7.8</td>\n",
       "      <td>8.3</td>\n",
       "      <td>3400.0</td>\n",
       "      <td>30000.0</td>\n",
       "      <td>1.0</td>\n",
       "    </tr>\n",
       "    <tr>\n",
       "      <th>height</th>\n",
       "      <td>150.0</td>\n",
       "      <td>0.1200</td>\n",
       "      <td>7.60</td>\n",
       "      <td>140.0</td>\n",
       "      <td>150.0</td>\n",
       "      <td>170.0</td>\n",
       "      <td>4200.0</td>\n",
       "      <td>37000.0</td>\n",
       "      <td>1.0</td>\n",
       "    </tr>\n",
       "  </tbody>\n",
       "</table>\n",
       "</div>"
      ],
      "text/plain": [
       "         Mean    MCSE  StdDev     5%    50%    95%   N_Eff  N_Eff/s  R_hat\n",
       "name                                                                      \n",
       "lp__   -900.0  0.0250    0.98 -900.0 -900.0 -900.0  1600.0  14000.0    1.0\n",
       "mu      150.0  0.0074    0.41  150.0  150.0  160.0  3100.0  27000.0    1.0\n",
       "sigma     7.8  0.0050    0.29    7.3    7.8    8.3  3400.0  30000.0    1.0\n",
       "height  150.0  0.1200    7.60  140.0  150.0  170.0  4200.0  37000.0    1.0"
      ]
     },
     "execution_count": 33,
     "metadata": {},
     "output_type": "execute_result"
    }
   ],
   "source": [
    "fit.summary()"
   ]
  },
  {
   "cell_type": "code",
   "execution_count": null,
   "metadata": {},
   "outputs": [],
   "source": []
  },
  {
   "cell_type": "code",
   "execution_count": null,
   "metadata": {},
   "outputs": [],
   "source": []
  },
  {
   "cell_type": "markdown",
   "metadata": {},
   "source": [
    "#### Task 2. Model fit and evaluation\n",
    "\n",
    "1. Plot a joint distribution of fitted mu and sigma.\n",
    "2. Plot histograms of data and simulated heights and evaluate the quality of model.\n",
    "\n"
   ]
  },
  {
   "cell_type": "code",
   "execution_count": 12,
   "metadata": {},
   "outputs": [
    {
     "data": {
      "image/png": "[encoded data removed]",
      "text/plain": [
       "<Figure size 432x288 with 1 Axes>"
      ]
     },
     "metadata": {
      "needs_background": "light"
     },
     "output_type": "display_data"
    }
   ],
   "source": [
    "plt_joint_dist(fit, 'mu', 'sigma')"
   ]
  },
  {
   "cell_type": "code",
   "execution_count": 13,
   "metadata": {},
   "outputs": [],
   "source": [
    "def two_hist_plot(stan_fit1,var_name1, stan_fit2,var_name2, bins):\n",
    "    f, (ax1, ax2) = plt.subplots(1, 2, sharey=True)\n",
    "    ax1.hist(stan_fit1.stan_variable(var_name1), bins=bins)\n",
    "    ax1.set_title(\"Hist of fit: {} and var: {}\".format(\"sim\",var_name1))\n",
    "    ax2.hist(stan_fit2.stan_variable(var_name2), bins=bins)\n",
    "    ax2.set_title(\"Hist of fit: {} and var: {}\".format('fit',var_name2))\n",
    "    plt.show()"
   ]
  },
  {
   "cell_type": "code",
   "execution_count": 14,
   "metadata": {},
   "outputs": [
    {
     "data": {
      "image/png": "[encoded data removed]",
      "text/plain": [
       "<Figure size 432x288 with 2 Axes>"
      ]
     },
     "metadata": {
      "needs_background": "light"
     },
     "output_type": "display_data"
    }
   ],
   "source": [
    "two_hist_plot(sim, 'mu', fit, 'mu', 100)"
   ]
  },
  {
   "cell_type": "code",
   "execution_count": 15,
   "metadata": {},
   "outputs": [
    {
     "data": {
      "image/png": "[encoded data removed]",
      "text/plain": [
       "<Figure size 432x288 with 2 Axes>"
      ]
     },
     "metadata": {
      "needs_background": "light"
     },
     "output_type": "display_data"
    }
   ],
   "source": [
    "two_hist_plot(sim, 'sigma', fit, 'sigma', 100)"
   ]
  },
  {
   "cell_type": "code",
   "execution_count": 16,
   "metadata": {},
   "outputs": [
    {
     "data": {
      "image/png": "[encoded data removed]",
      "text/plain": [
       "<Figure size 432x288 with 2 Axes>"
      ]
     },
     "metadata": {
      "needs_background": "light"
     },
     "output_type": "display_data"
    }
   ],
   "source": [
    "two_hist_plot(sim, 'height', fit, 'height', 100)"
   ]
  },
  {
   "cell_type": "markdown",
   "metadata": {},
   "source": [
    "### Adding predictor to the model - weight\n",
    "\n",
    "Create column ```c_weight``` in the dataframe containing weights substrated by their mean.\n"
   ]
  },
  {
   "cell_type": "code",
   "execution_count": 39,
   "metadata": {},
   "outputs": [],
   "source": [
    "w_mean = d[\"weight\"].mean()\n",
    "d[\"c_weight\"] = d[\"weight\"] - w_mean"
   ]
  },
  {
   "cell_type": "code",
   "execution_count": 46,
   "metadata": {},
   "outputs": [
    {
     "name": "stdout",
     "output_type": "stream",
     "text": [
      "[-13.91943352 -13.26797358 -12.61651364 -11.9650537  -11.31359376\n",
      " -10.66213383 -10.01067389  -9.35921395  -8.70775401  -8.05629407\n",
      "  -7.40483413  -6.75337419  -6.10191425  -5.45045432  -4.79899438\n",
      "  -4.14753444  -3.4960745   -2.84461456  -2.19315462  -1.54169468\n",
      "  -0.89023474  -0.23877481   0.41268513   1.06414507   1.71560501\n",
      "   2.36706495   3.01852489   3.66998483   4.32144477   4.9729047\n",
      "   5.62436464   6.27582458   6.92728452   7.57874446   8.2302044\n",
      "   8.88166434   9.53312428  10.18458421  10.83604415  11.48750409\n",
      "  12.13896403  12.79042397  13.44188391  14.09334385  14.74480379\n",
      "  15.39626373  16.04772366  16.6991836   17.35064354  18.00210348]\n",
      "50\n"
     ]
    }
   ],
   "source": [
    "weight = np.linspace(d.c_weight.min(),d.c_weight.max())\n",
    "\n",
    "print(weight)\n",
    "print(len(weight))"
   ]
  },
  {
   "cell_type": "code",
   "execution_count": 55,
   "metadata": {},
   "outputs": [
    {
     "name": "stderr",
     "output_type": "stream",
     "text": [
      "INFO:cmdstanpy:found newer exe file, not recompiling\n"
     ]
    }
   ],
   "source": [
    "model_ppc=CmdStanModel(stan_file='stan_files/height_2a_ppc.stan')\n",
    "R = 1000\n",
    "data_sim={'N':50, 'weight':weight}\n"
   ]
  },
  {
   "cell_type": "code",
   "execution_count": 56,
   "metadata": {},
   "outputs": [
    {
     "name": "stderr",
     "output_type": "stream",
     "text": [
      "INFO:cmdstanpy:CmdStan start processing\n",
      "chain 1 |\u001b[34m██████████\u001b[0m| 00:00 Sampling completed"
     ]
    },
    {
     "name": "stdout",
     "output_type": "stream",
     "text": [
      "                                                                                "
     ]
    },
    {
     "name": "stderr",
     "output_type": "stream",
     "text": [
      "\n",
      "INFO:cmdstanpy:CmdStan done processing.\n"
     ]
    },
    {
     "name": "stdout",
     "output_type": "stream",
     "text": [
      "\n"
     ]
    }
   ],
   "source": [
    "\n",
    "sim=model_ppc.sample(data=data_sim, \n",
    "                     iter_sampling=R, \n",
    "                     iter_warmup=0, \n",
    "                     chains=1, \n",
    "                     refresh=R,\n",
    "                     fixed_param=True,\n",
    "                     seed=29042020)"
   ]
  },
  {
   "cell_type": "code",
   "execution_count": 57,
   "metadata": {},
   "outputs": [
    {
     "data": {
      "text/html": [
       "<div>\n",
       "<style scoped>\n",
       "    .dataframe tbody tr th:only-of-type {\n",
       "        vertical-align: middle;\n",
       "    }\n",
       "\n",
       "    .dataframe tbody tr th {\n",
       "        vertical-align: top;\n",
       "    }\n",
       "\n",
       "    .dataframe thead th {\n",
       "        text-align: right;\n",
       "    }\n",
       "</style>\n",
       "<table border=\"1\" class=\"dataframe\">\n",
       "  <thead>\n",
       "    <tr style=\"text-align: right;\">\n",
       "      <th></th>\n",
       "      <th>Mean</th>\n",
       "      <th>MCSE</th>\n",
       "      <th>StdDev</th>\n",
       "      <th>5%</th>\n",
       "      <th>50%</th>\n",
       "      <th>95%</th>\n",
       "      <th>N_Eff</th>\n",
       "      <th>N_Eff/s</th>\n",
       "      <th>R_hat</th>\n",
       "    </tr>\n",
       "    <tr>\n",
       "      <th>name</th>\n",
       "      <th></th>\n",
       "      <th></th>\n",
       "      <th></th>\n",
       "      <th></th>\n",
       "      <th></th>\n",
       "      <th></th>\n",
       "      <th></th>\n",
       "      <th></th>\n",
       "      <th></th>\n",
       "    </tr>\n",
       "  </thead>\n",
       "  <tbody>\n",
       "    <tr>\n",
       "      <th>lp__</th>\n",
       "      <td>0.00</td>\n",
       "      <td>NaN</td>\n",
       "      <td>0</td>\n",
       "      <td>0.00</td>\n",
       "      <td>0.00</td>\n",
       "      <td>0.0</td>\n",
       "      <td>NaN</td>\n",
       "      <td>NaN</td>\n",
       "      <td>NaN</td>\n",
       "    </tr>\n",
       "    <tr>\n",
       "      <th>alpha</th>\n",
       "      <td>180.00</td>\n",
       "      <td>0.64</td>\n",
       "      <td>20</td>\n",
       "      <td>150.00</td>\n",
       "      <td>180.00</td>\n",
       "      <td>210.0</td>\n",
       "      <td>990.0</td>\n",
       "      <td>22000.0</td>\n",
       "      <td>1.0</td>\n",
       "    </tr>\n",
       "    <tr>\n",
       "      <th>beta</th>\n",
       "      <td>0.21</td>\n",
       "      <td>0.35</td>\n",
       "      <td>10</td>\n",
       "      <td>-17.00</td>\n",
       "      <td>-0.37</td>\n",
       "      <td>17.0</td>\n",
       "      <td>850.0</td>\n",
       "      <td>19000.0</td>\n",
       "      <td>1.0</td>\n",
       "    </tr>\n",
       "    <tr>\n",
       "      <th>sigma</th>\n",
       "      <td>15.00</td>\n",
       "      <td>0.45</td>\n",
       "      <td>15</td>\n",
       "      <td>0.72</td>\n",
       "      <td>10.00</td>\n",
       "      <td>45.0</td>\n",
       "      <td>1100.0</td>\n",
       "      <td>24000.0</td>\n",
       "      <td>1.0</td>\n",
       "    </tr>\n",
       "    <tr>\n",
       "      <th>height[1]</th>\n",
       "      <td>175.00</td>\n",
       "      <td>4.90</td>\n",
       "      <td>143</td>\n",
       "      <td>-56.00</td>\n",
       "      <td>181.00</td>\n",
       "      <td>417.0</td>\n",
       "      <td>860.0</td>\n",
       "      <td>19536.0</td>\n",
       "      <td>1.0</td>\n",
       "    </tr>\n",
       "    <tr>\n",
       "      <th>height[2]</th>\n",
       "      <td>176.00</td>\n",
       "      <td>4.60</td>\n",
       "      <td>137</td>\n",
       "      <td>-38.00</td>\n",
       "      <td>185.00</td>\n",
       "      <td>407.0</td>\n",
       "      <td>871.0</td>\n",
       "      <td>19803.0</td>\n",
       "      <td>1.0</td>\n",
       "    </tr>\n",
       "    <tr>\n",
       "      <th>height[3]</th>\n",
       "      <td>175.00</td>\n",
       "      <td>4.50</td>\n",
       "      <td>129</td>\n",
       "      <td>-34.00</td>\n",
       "      <td>179.00</td>\n",
       "      <td>388.0</td>\n",
       "      <td>828.0</td>\n",
       "      <td>18817.0</td>\n",
       "      <td>1.0</td>\n",
       "    </tr>\n",
       "    <tr>\n",
       "      <th>height[4]</th>\n",
       "      <td>176.00</td>\n",
       "      <td>4.20</td>\n",
       "      <td>123</td>\n",
       "      <td>-24.00</td>\n",
       "      <td>184.00</td>\n",
       "      <td>391.0</td>\n",
       "      <td>856.0</td>\n",
       "      <td>19455.0</td>\n",
       "      <td>1.0</td>\n",
       "    </tr>\n",
       "    <tr>\n",
       "      <th>height[5]</th>\n",
       "      <td>175.00</td>\n",
       "      <td>4.00</td>\n",
       "      <td>118</td>\n",
       "      <td>-8.50</td>\n",
       "      <td>181.00</td>\n",
       "      <td>370.0</td>\n",
       "      <td>858.0</td>\n",
       "      <td>19508.0</td>\n",
       "      <td>1.0</td>\n",
       "    </tr>\n",
       "    <tr>\n",
       "      <th>height[6]</th>\n",
       "      <td>176.00</td>\n",
       "      <td>3.80</td>\n",
       "      <td>111</td>\n",
       "      <td>-1.90</td>\n",
       "      <td>179.00</td>\n",
       "      <td>361.0</td>\n",
       "      <td>856.0</td>\n",
       "      <td>19445.0</td>\n",
       "      <td>1.0</td>\n",
       "    </tr>\n",
       "    <tr>\n",
       "      <th>height[7]</th>\n",
       "      <td>177.00</td>\n",
       "      <td>3.50</td>\n",
       "      <td>104</td>\n",
       "      <td>8.50</td>\n",
       "      <td>180.00</td>\n",
       "      <td>352.0</td>\n",
       "      <td>879.0</td>\n",
       "      <td>19979.0</td>\n",
       "      <td>1.0</td>\n",
       "    </tr>\n",
       "    <tr>\n",
       "      <th>height[8]</th>\n",
       "      <td>176.00</td>\n",
       "      <td>3.30</td>\n",
       "      <td>98</td>\n",
       "      <td>19.00</td>\n",
       "      <td>181.00</td>\n",
       "      <td>340.0</td>\n",
       "      <td>874.0</td>\n",
       "      <td>19855.0</td>\n",
       "      <td>1.0</td>\n",
       "    </tr>\n",
       "    <tr>\n",
       "      <th>height[9]</th>\n",
       "      <td>177.00</td>\n",
       "      <td>3.30</td>\n",
       "      <td>94</td>\n",
       "      <td>31.00</td>\n",
       "      <td>181.00</td>\n",
       "      <td>333.0</td>\n",
       "      <td>808.0</td>\n",
       "      <td>18355.0</td>\n",
       "      <td>1.0</td>\n",
       "    </tr>\n",
       "    <tr>\n",
       "      <th>height[10]</th>\n",
       "      <td>176.00</td>\n",
       "      <td>3.00</td>\n",
       "      <td>86</td>\n",
       "      <td>40.00</td>\n",
       "      <td>177.00</td>\n",
       "      <td>323.0</td>\n",
       "      <td>834.0</td>\n",
       "      <td>18963.0</td>\n",
       "      <td>1.0</td>\n",
       "    </tr>\n",
       "    <tr>\n",
       "      <th>height[11]</th>\n",
       "      <td>177.00</td>\n",
       "      <td>2.80</td>\n",
       "      <td>79</td>\n",
       "      <td>51.00</td>\n",
       "      <td>180.00</td>\n",
       "      <td>307.0</td>\n",
       "      <td>821.0</td>\n",
       "      <td>18663.0</td>\n",
       "      <td>1.0</td>\n",
       "    </tr>\n",
       "    <tr>\n",
       "      <th>height[12]</th>\n",
       "      <td>178.00</td>\n",
       "      <td>2.40</td>\n",
       "      <td>74</td>\n",
       "      <td>61.00</td>\n",
       "      <td>179.00</td>\n",
       "      <td>301.0</td>\n",
       "      <td>951.0</td>\n",
       "      <td>21624.0</td>\n",
       "      <td>1.0</td>\n",
       "    </tr>\n",
       "    <tr>\n",
       "      <th>height[13]</th>\n",
       "      <td>177.00</td>\n",
       "      <td>2.10</td>\n",
       "      <td>67</td>\n",
       "      <td>70.00</td>\n",
       "      <td>179.00</td>\n",
       "      <td>288.0</td>\n",
       "      <td>990.0</td>\n",
       "      <td>22503.0</td>\n",
       "      <td>1.0</td>\n",
       "    </tr>\n",
       "    <tr>\n",
       "      <th>height[14]</th>\n",
       "      <td>177.00</td>\n",
       "      <td>2.10</td>\n",
       "      <td>61</td>\n",
       "      <td>79.00</td>\n",
       "      <td>180.00</td>\n",
       "      <td>282.0</td>\n",
       "      <td>860.0</td>\n",
       "      <td>19543.0</td>\n",
       "      <td>1.0</td>\n",
       "    </tr>\n",
       "    <tr>\n",
       "      <th>height[15]</th>\n",
       "      <td>177.00</td>\n",
       "      <td>1.90</td>\n",
       "      <td>56</td>\n",
       "      <td>87.00</td>\n",
       "      <td>178.00</td>\n",
       "      <td>273.0</td>\n",
       "      <td>838.0</td>\n",
       "      <td>19046.0</td>\n",
       "      <td>1.0</td>\n",
       "    </tr>\n",
       "    <tr>\n",
       "      <th>height[16]</th>\n",
       "      <td>177.00</td>\n",
       "      <td>1.70</td>\n",
       "      <td>52</td>\n",
       "      <td>93.00</td>\n",
       "      <td>177.00</td>\n",
       "      <td>264.0</td>\n",
       "      <td>893.0</td>\n",
       "      <td>20289.0</td>\n",
       "      <td>1.0</td>\n",
       "    </tr>\n",
       "    <tr>\n",
       "      <th>height[17]</th>\n",
       "      <td>177.00</td>\n",
       "      <td>1.50</td>\n",
       "      <td>47</td>\n",
       "      <td>104.00</td>\n",
       "      <td>178.00</td>\n",
       "      <td>253.0</td>\n",
       "      <td>997.0</td>\n",
       "      <td>22651.0</td>\n",
       "      <td>1.0</td>\n",
       "    </tr>\n",
       "    <tr>\n",
       "      <th>height[18]</th>\n",
       "      <td>178.00</td>\n",
       "      <td>1.30</td>\n",
       "      <td>41</td>\n",
       "      <td>114.00</td>\n",
       "      <td>179.00</td>\n",
       "      <td>247.0</td>\n",
       "      <td>986.0</td>\n",
       "      <td>22398.0</td>\n",
       "      <td>1.0</td>\n",
       "    </tr>\n",
       "    <tr>\n",
       "      <th>height[19]</th>\n",
       "      <td>177.00</td>\n",
       "      <td>1.20</td>\n",
       "      <td>35</td>\n",
       "      <td>120.00</td>\n",
       "      <td>178.00</td>\n",
       "      <td>233.0</td>\n",
       "      <td>896.0</td>\n",
       "      <td>20353.0</td>\n",
       "      <td>1.0</td>\n",
       "    </tr>\n",
       "    <tr>\n",
       "      <th>height[20]</th>\n",
       "      <td>177.00</td>\n",
       "      <td>1.00</td>\n",
       "      <td>33</td>\n",
       "      <td>127.00</td>\n",
       "      <td>178.00</td>\n",
       "      <td>230.0</td>\n",
       "      <td>1049.0</td>\n",
       "      <td>23845.0</td>\n",
       "      <td>1.0</td>\n",
       "    </tr>\n",
       "    <tr>\n",
       "      <th>height[21]</th>\n",
       "      <td>178.00</td>\n",
       "      <td>1.00</td>\n",
       "      <td>30</td>\n",
       "      <td>131.00</td>\n",
       "      <td>178.00</td>\n",
       "      <td>223.0</td>\n",
       "      <td>912.0</td>\n",
       "      <td>20730.0</td>\n",
       "      <td>1.0</td>\n",
       "    </tr>\n",
       "    <tr>\n",
       "      <th>height[22]</th>\n",
       "      <td>178.00</td>\n",
       "      <td>0.97</td>\n",
       "      <td>30</td>\n",
       "      <td>133.00</td>\n",
       "      <td>178.00</td>\n",
       "      <td>224.0</td>\n",
       "      <td>944.0</td>\n",
       "      <td>21463.0</td>\n",
       "      <td>1.0</td>\n",
       "    </tr>\n",
       "    <tr>\n",
       "      <th>height[23]</th>\n",
       "      <td>178.00</td>\n",
       "      <td>0.88</td>\n",
       "      <td>28</td>\n",
       "      <td>133.00</td>\n",
       "      <td>178.00</td>\n",
       "      <td>223.0</td>\n",
       "      <td>997.0</td>\n",
       "      <td>22665.0</td>\n",
       "      <td>1.0</td>\n",
       "    </tr>\n",
       "    <tr>\n",
       "      <th>height[24]</th>\n",
       "      <td>179.00</td>\n",
       "      <td>1.00</td>\n",
       "      <td>29</td>\n",
       "      <td>133.00</td>\n",
       "      <td>178.00</td>\n",
       "      <td>226.0</td>\n",
       "      <td>831.0</td>\n",
       "      <td>18893.0</td>\n",
       "      <td>1.0</td>\n",
       "    </tr>\n",
       "    <tr>\n",
       "      <th>height[25]</th>\n",
       "      <td>178.00</td>\n",
       "      <td>1.10</td>\n",
       "      <td>33</td>\n",
       "      <td>125.00</td>\n",
       "      <td>179.00</td>\n",
       "      <td>231.0</td>\n",
       "      <td>947.0</td>\n",
       "      <td>21521.0</td>\n",
       "      <td>1.0</td>\n",
       "    </tr>\n",
       "    <tr>\n",
       "      <th>height[26]</th>\n",
       "      <td>178.00</td>\n",
       "      <td>1.20</td>\n",
       "      <td>37</td>\n",
       "      <td>118.00</td>\n",
       "      <td>178.00</td>\n",
       "      <td>239.0</td>\n",
       "      <td>1011.0</td>\n",
       "      <td>22977.0</td>\n",
       "      <td>1.0</td>\n",
       "    </tr>\n",
       "    <tr>\n",
       "      <th>height[27]</th>\n",
       "      <td>179.00</td>\n",
       "      <td>1.40</td>\n",
       "      <td>42</td>\n",
       "      <td>110.00</td>\n",
       "      <td>177.00</td>\n",
       "      <td>250.0</td>\n",
       "      <td>881.0</td>\n",
       "      <td>20033.0</td>\n",
       "      <td>1.0</td>\n",
       "    </tr>\n",
       "    <tr>\n",
       "      <th>height[28]</th>\n",
       "      <td>178.00</td>\n",
       "      <td>1.60</td>\n",
       "      <td>46</td>\n",
       "      <td>100.00</td>\n",
       "      <td>178.00</td>\n",
       "      <td>257.0</td>\n",
       "      <td>869.0</td>\n",
       "      <td>19744.0</td>\n",
       "      <td>1.0</td>\n",
       "    </tr>\n",
       "    <tr>\n",
       "      <th>height[29]</th>\n",
       "      <td>179.00</td>\n",
       "      <td>1.80</td>\n",
       "      <td>54</td>\n",
       "      <td>96.00</td>\n",
       "      <td>177.00</td>\n",
       "      <td>268.0</td>\n",
       "      <td>865.0</td>\n",
       "      <td>19656.0</td>\n",
       "      <td>1.0</td>\n",
       "    </tr>\n",
       "    <tr>\n",
       "      <th>height[30]</th>\n",
       "      <td>180.00</td>\n",
       "      <td>1.90</td>\n",
       "      <td>57</td>\n",
       "      <td>87.00</td>\n",
       "      <td>179.00</td>\n",
       "      <td>274.0</td>\n",
       "      <td>919.0</td>\n",
       "      <td>20878.0</td>\n",
       "      <td>1.0</td>\n",
       "    </tr>\n",
       "    <tr>\n",
       "      <th>height[31]</th>\n",
       "      <td>178.00</td>\n",
       "      <td>2.10</td>\n",
       "      <td>63</td>\n",
       "      <td>76.00</td>\n",
       "      <td>178.00</td>\n",
       "      <td>283.0</td>\n",
       "      <td>892.0</td>\n",
       "      <td>20271.0</td>\n",
       "      <td>1.0</td>\n",
       "    </tr>\n",
       "    <tr>\n",
       "      <th>height[32]</th>\n",
       "      <td>180.00</td>\n",
       "      <td>2.40</td>\n",
       "      <td>70</td>\n",
       "      <td>66.00</td>\n",
       "      <td>179.00</td>\n",
       "      <td>296.0</td>\n",
       "      <td>832.0</td>\n",
       "      <td>18908.0</td>\n",
       "      <td>1.0</td>\n",
       "    </tr>\n",
       "    <tr>\n",
       "      <th>height[33]</th>\n",
       "      <td>180.00</td>\n",
       "      <td>2.60</td>\n",
       "      <td>75</td>\n",
       "      <td>58.00</td>\n",
       "      <td>179.00</td>\n",
       "      <td>304.0</td>\n",
       "      <td>823.0</td>\n",
       "      <td>18703.0</td>\n",
       "      <td>1.0</td>\n",
       "    </tr>\n",
       "    <tr>\n",
       "      <th>height[34]</th>\n",
       "      <td>179.00</td>\n",
       "      <td>2.80</td>\n",
       "      <td>82</td>\n",
       "      <td>50.00</td>\n",
       "      <td>178.00</td>\n",
       "      <td>314.0</td>\n",
       "      <td>880.0</td>\n",
       "      <td>19998.0</td>\n",
       "      <td>1.0</td>\n",
       "    </tr>\n",
       "    <tr>\n",
       "      <th>height[35]</th>\n",
       "      <td>180.00</td>\n",
       "      <td>3.00</td>\n",
       "      <td>88</td>\n",
       "      <td>37.00</td>\n",
       "      <td>180.00</td>\n",
       "      <td>323.0</td>\n",
       "      <td>873.0</td>\n",
       "      <td>19841.0</td>\n",
       "      <td>1.0</td>\n",
       "    </tr>\n",
       "    <tr>\n",
       "      <th>height[36]</th>\n",
       "      <td>181.00</td>\n",
       "      <td>3.20</td>\n",
       "      <td>94</td>\n",
       "      <td>33.00</td>\n",
       "      <td>180.00</td>\n",
       "      <td>333.0</td>\n",
       "      <td>848.0</td>\n",
       "      <td>19265.0</td>\n",
       "      <td>1.0</td>\n",
       "    </tr>\n",
       "    <tr>\n",
       "      <th>height[37]</th>\n",
       "      <td>180.00</td>\n",
       "      <td>3.40</td>\n",
       "      <td>101</td>\n",
       "      <td>13.00</td>\n",
       "      <td>178.00</td>\n",
       "      <td>346.0</td>\n",
       "      <td>878.0</td>\n",
       "      <td>19955.0</td>\n",
       "      <td>1.0</td>\n",
       "    </tr>\n",
       "    <tr>\n",
       "      <th>height[38]</th>\n",
       "      <td>180.00</td>\n",
       "      <td>3.50</td>\n",
       "      <td>108</td>\n",
       "      <td>3.50</td>\n",
       "      <td>179.00</td>\n",
       "      <td>353.0</td>\n",
       "      <td>927.0</td>\n",
       "      <td>21059.0</td>\n",
       "      <td>1.0</td>\n",
       "    </tr>\n",
       "    <tr>\n",
       "      <th>height[39]</th>\n",
       "      <td>180.00</td>\n",
       "      <td>3.80</td>\n",
       "      <td>112</td>\n",
       "      <td>0.71</td>\n",
       "      <td>177.00</td>\n",
       "      <td>361.0</td>\n",
       "      <td>852.0</td>\n",
       "      <td>19374.0</td>\n",
       "      <td>1.0</td>\n",
       "    </tr>\n",
       "    <tr>\n",
       "      <th>height[40]</th>\n",
       "      <td>181.00</td>\n",
       "      <td>4.10</td>\n",
       "      <td>119</td>\n",
       "      <td>-6.40</td>\n",
       "      <td>177.00</td>\n",
       "      <td>378.0</td>\n",
       "      <td>827.0</td>\n",
       "      <td>18790.0</td>\n",
       "      <td>1.0</td>\n",
       "    </tr>\n",
       "    <tr>\n",
       "      <th>height[41]</th>\n",
       "      <td>180.00</td>\n",
       "      <td>4.20</td>\n",
       "      <td>124</td>\n",
       "      <td>-15.00</td>\n",
       "      <td>178.00</td>\n",
       "      <td>381.0</td>\n",
       "      <td>895.0</td>\n",
       "      <td>20340.0</td>\n",
       "      <td>1.0</td>\n",
       "    </tr>\n",
       "    <tr>\n",
       "      <th>height[42]</th>\n",
       "      <td>180.00</td>\n",
       "      <td>4.50</td>\n",
       "      <td>132</td>\n",
       "      <td>-31.00</td>\n",
       "      <td>176.00</td>\n",
       "      <td>397.0</td>\n",
       "      <td>873.0</td>\n",
       "      <td>19838.0</td>\n",
       "      <td>1.0</td>\n",
       "    </tr>\n",
       "    <tr>\n",
       "      <th>height[43]</th>\n",
       "      <td>180.00</td>\n",
       "      <td>4.60</td>\n",
       "      <td>139</td>\n",
       "      <td>-46.00</td>\n",
       "      <td>176.00</td>\n",
       "      <td>409.0</td>\n",
       "      <td>900.0</td>\n",
       "      <td>20452.0</td>\n",
       "      <td>1.0</td>\n",
       "    </tr>\n",
       "    <tr>\n",
       "      <th>height[44]</th>\n",
       "      <td>181.00</td>\n",
       "      <td>4.90</td>\n",
       "      <td>145</td>\n",
       "      <td>-49.00</td>\n",
       "      <td>175.00</td>\n",
       "      <td>417.0</td>\n",
       "      <td>867.0</td>\n",
       "      <td>19700.0</td>\n",
       "      <td>1.0</td>\n",
       "    </tr>\n",
       "    <tr>\n",
       "      <th>height[45]</th>\n",
       "      <td>181.00</td>\n",
       "      <td>5.20</td>\n",
       "      <td>151</td>\n",
       "      <td>-61.00</td>\n",
       "      <td>175.00</td>\n",
       "      <td>430.0</td>\n",
       "      <td>848.0</td>\n",
       "      <td>19270.0</td>\n",
       "      <td>1.0</td>\n",
       "    </tr>\n",
       "    <tr>\n",
       "      <th>height[46]</th>\n",
       "      <td>182.00</td>\n",
       "      <td>5.50</td>\n",
       "      <td>158</td>\n",
       "      <td>-71.00</td>\n",
       "      <td>172.00</td>\n",
       "      <td>445.0</td>\n",
       "      <td>838.0</td>\n",
       "      <td>19037.0</td>\n",
       "      <td>1.0</td>\n",
       "    </tr>\n",
       "    <tr>\n",
       "      <th>height[47]</th>\n",
       "      <td>181.00</td>\n",
       "      <td>5.50</td>\n",
       "      <td>163</td>\n",
       "      <td>-84.00</td>\n",
       "      <td>177.00</td>\n",
       "      <td>455.0</td>\n",
       "      <td>874.0</td>\n",
       "      <td>19868.0</td>\n",
       "      <td>1.0</td>\n",
       "    </tr>\n",
       "    <tr>\n",
       "      <th>height[48]</th>\n",
       "      <td>181.00</td>\n",
       "      <td>5.90</td>\n",
       "      <td>170</td>\n",
       "      <td>-100.00</td>\n",
       "      <td>177.00</td>\n",
       "      <td>462.0</td>\n",
       "      <td>840.0</td>\n",
       "      <td>19084.0</td>\n",
       "      <td>1.0</td>\n",
       "    </tr>\n",
       "    <tr>\n",
       "      <th>height[49]</th>\n",
       "      <td>181.00</td>\n",
       "      <td>5.90</td>\n",
       "      <td>177</td>\n",
       "      <td>-111.00</td>\n",
       "      <td>177.00</td>\n",
       "      <td>476.0</td>\n",
       "      <td>886.0</td>\n",
       "      <td>20134.0</td>\n",
       "      <td>1.0</td>\n",
       "    </tr>\n",
       "    <tr>\n",
       "      <th>height[50]</th>\n",
       "      <td>181.00</td>\n",
       "      <td>6.30</td>\n",
       "      <td>183</td>\n",
       "      <td>-117.00</td>\n",
       "      <td>171.00</td>\n",
       "      <td>484.0</td>\n",
       "      <td>850.0</td>\n",
       "      <td>19308.0</td>\n",
       "      <td>1.0</td>\n",
       "    </tr>\n",
       "  </tbody>\n",
       "</table>\n",
       "</div>"
      ],
      "text/plain": [
       "              Mean  MCSE  StdDev      5%     50%    95%   N_Eff  N_Eff/s  \\\n",
       "name                                                                       \n",
       "lp__          0.00   NaN       0    0.00    0.00    0.0     NaN      NaN   \n",
       "alpha       180.00  0.64      20  150.00  180.00  210.0   990.0  22000.0   \n",
       "beta          0.21  0.35      10  -17.00   -0.37   17.0   850.0  19000.0   \n",
       "sigma        15.00  0.45      15    0.72   10.00   45.0  1100.0  24000.0   \n",
       "height[1]   175.00  4.90     143  -56.00  181.00  417.0   860.0  19536.0   \n",
       "height[2]   176.00  4.60     137  -38.00  185.00  407.0   871.0  19803.0   \n",
       "height[3]   175.00  4.50     129  -34.00  179.00  388.0   828.0  18817.0   \n",
       "height[4]   176.00  4.20     123  -24.00  184.00  391.0   856.0  19455.0   \n",
       "height[5]   175.00  4.00     118   -8.50  181.00  370.0   858.0  19508.0   \n",
       "height[6]   176.00  3.80     111   -1.90  179.00  361.0   856.0  19445.0   \n",
       "height[7]   177.00  3.50     104    8.50  180.00  352.0   879.0  19979.0   \n",
       "height[8]   176.00  3.30      98   19.00  181.00  340.0   874.0  19855.0   \n",
       "height[9]   177.00  3.30      94   31.00  181.00  333.0   808.0  18355.0   \n",
       "height[10]  176.00  3.00      86   40.00  177.00  323.0   834.0  18963.0   \n",
       "height[11]  177.00  2.80      79   51.00  180.00  307.0   821.0  18663.0   \n",
       "height[12]  178.00  2.40      74   61.00  179.00  301.0   951.0  21624.0   \n",
       "height[13]  177.00  2.10      67   70.00  179.00  288.0   990.0  22503.0   \n",
       "height[14]  177.00  2.10      61   79.00  180.00  282.0   860.0  19543.0   \n",
       "height[15]  177.00  1.90      56   87.00  178.00  273.0   838.0  19046.0   \n",
       "height[16]  177.00  1.70      52   93.00  177.00  264.0   893.0  20289.0   \n",
       "height[17]  177.00  1.50      47  104.00  178.00  253.0   997.0  22651.0   \n",
       "height[18]  178.00  1.30      41  114.00  179.00  247.0   986.0  22398.0   \n",
       "height[19]  177.00  1.20      35  120.00  178.00  233.0   896.0  20353.0   \n",
       "height[20]  177.00  1.00      33  127.00  178.00  230.0  1049.0  23845.0   \n",
       "height[21]  178.00  1.00      30  131.00  178.00  223.0   912.0  20730.0   \n",
       "height[22]  178.00  0.97      30  133.00  178.00  224.0   944.0  21463.0   \n",
       "height[23]  178.00  0.88      28  133.00  178.00  223.0   997.0  22665.0   \n",
       "height[24]  179.00  1.00      29  133.00  178.00  226.0   831.0  18893.0   \n",
       "height[25]  178.00  1.10      33  125.00  179.00  231.0   947.0  21521.0   \n",
       "height[26]  178.00  1.20      37  118.00  178.00  239.0  1011.0  22977.0   \n",
       "height[27]  179.00  1.40      42  110.00  177.00  250.0   881.0  20033.0   \n",
       "height[28]  178.00  1.60      46  100.00  178.00  257.0   869.0  19744.0   \n",
       "height[29]  179.00  1.80      54   96.00  177.00  268.0   865.0  19656.0   \n",
       "height[30]  180.00  1.90      57   87.00  179.00  274.0   919.0  20878.0   \n",
       "height[31]  178.00  2.10      63   76.00  178.00  283.0   892.0  20271.0   \n",
       "height[32]  180.00  2.40      70   66.00  179.00  296.0   832.0  18908.0   \n",
       "height[33]  180.00  2.60      75   58.00  179.00  304.0   823.0  18703.0   \n",
       "height[34]  179.00  2.80      82   50.00  178.00  314.0   880.0  19998.0   \n",
       "height[35]  180.00  3.00      88   37.00  180.00  323.0   873.0  19841.0   \n",
       "height[36]  181.00  3.20      94   33.00  180.00  333.0   848.0  19265.0   \n",
       "height[37]  180.00  3.40     101   13.00  178.00  346.0   878.0  19955.0   \n",
       "height[38]  180.00  3.50     108    3.50  179.00  353.0   927.0  21059.0   \n",
       "height[39]  180.00  3.80     112    0.71  177.00  361.0   852.0  19374.0   \n",
       "height[40]  181.00  4.10     119   -6.40  177.00  378.0   827.0  18790.0   \n",
       "height[41]  180.00  4.20     124  -15.00  178.00  381.0   895.0  20340.0   \n",
       "height[42]  180.00  4.50     132  -31.00  176.00  397.0   873.0  19838.0   \n",
       "height[43]  180.00  4.60     139  -46.00  176.00  409.0   900.0  20452.0   \n",
       "height[44]  181.00  4.90     145  -49.00  175.00  417.0   867.0  19700.0   \n",
       "height[45]  181.00  5.20     151  -61.00  175.00  430.0   848.0  19270.0   \n",
       "height[46]  182.00  5.50     158  -71.00  172.00  445.0   838.0  19037.0   \n",
       "height[47]  181.00  5.50     163  -84.00  177.00  455.0   874.0  19868.0   \n",
       "height[48]  181.00  5.90     170 -100.00  177.00  462.0   840.0  19084.0   \n",
       "height[49]  181.00  5.90     177 -111.00  177.00  476.0   886.0  20134.0   \n",
       "height[50]  181.00  6.30     183 -117.00  171.00  484.0   850.0  19308.0   \n",
       "\n",
       "            R_hat  \n",
       "name               \n",
       "lp__          NaN  \n",
       "alpha         1.0  \n",
       "beta          1.0  \n",
       "sigma         1.0  \n",
       "height[1]     1.0  \n",
       "height[2]     1.0  \n",
       "height[3]     1.0  \n",
       "height[4]     1.0  \n",
       "height[5]     1.0  \n",
       "height[6]     1.0  \n",
       "height[7]     1.0  \n",
       "height[8]     1.0  \n",
       "height[9]     1.0  \n",
       "height[10]    1.0  \n",
       "height[11]    1.0  \n",
       "height[12]    1.0  \n",
       "height[13]    1.0  \n",
       "height[14]    1.0  \n",
       "height[15]    1.0  \n",
       "height[16]    1.0  \n",
       "height[17]    1.0  \n",
       "height[18]    1.0  \n",
       "height[19]    1.0  \n",
       "height[20]    1.0  \n",
       "height[21]    1.0  \n",
       "height[22]    1.0  \n",
       "height[23]    1.0  \n",
       "height[24]    1.0  \n",
       "height[25]    1.0  \n",
       "height[26]    1.0  \n",
       "height[27]    1.0  \n",
       "height[28]    1.0  \n",
       "height[29]    1.0  \n",
       "height[30]    1.0  \n",
       "height[31]    1.0  \n",
       "height[32]    1.0  \n",
       "height[33]    1.0  \n",
       "height[34]    1.0  \n",
       "height[35]    1.0  \n",
       "height[36]    1.0  \n",
       "height[37]    1.0  \n",
       "height[38]    1.0  \n",
       "height[39]    1.0  \n",
       "height[40]    1.0  \n",
       "height[41]    1.0  \n",
       "height[42]    1.0  \n",
       "height[43]    1.0  \n",
       "height[44]    1.0  \n",
       "height[45]    1.0  \n",
       "height[46]    1.0  \n",
       "height[47]    1.0  \n",
       "height[48]    1.0  \n",
       "height[49]    1.0  \n",
       "height[50]    1.0  "
      ]
     },
     "execution_count": 57,
     "metadata": {},
     "output_type": "execute_result"
    }
   ],
   "source": [
    "sim.summary()"
   ]
  },
  {
   "cell_type": "markdown",
   "metadata": {},
   "source": [
    "#### Task 4. Prior predictive checks\n",
    "1. Plot lines for each sampled slope beta and intercept alpha, verify if possible predicted heights are consistent with minimum (0) and maximum (check Wikipedia) heights observed in nature."
   ]
  },
  {
   "cell_type": "code",
   "execution_count": 59,
   "metadata": {},
   "outputs": [
    {
     "data": {
      "image/png": "[encoded data removed]",
      "text/plain": [
       "<Figure size 432x288 with 1 Axes>"
      ]
     },
     "metadata": {
      "needs_background": "light"
     },
     "output_type": "display_data"
    }
   ],
   "source": [
    "plt_hist(sim, 'alpha', bins)"
   ]
  },
  {
   "cell_type": "code",
   "execution_count": null,
   "metadata": {},
   "outputs": [],
   "source": []
  },
  {
   "cell_type": "markdown",
   "metadata": {},
   "source": [
    "### Modifying prior\n",
    "\n",
    "If prior for beta admits negative values, then it makes no sense. Lets change prior to lognormal distribution.\n"
   ]
  },
  {
   "cell_type": "code",
   "execution_count": 29,
   "metadata": {},
   "outputs": [
    {
     "name": "stderr",
     "output_type": "stream",
     "text": [
      "INFO:cmdstanpy:found newer exe file, not recompiling\n"
     ]
    }
   ],
   "source": [
    "model_ppc=CmdStanModel(stan_file='stan_files/height_2b_ppc.stan')"
   ]
  },
  {
   "cell_type": "code",
   "execution_count": 28,
   "metadata": {},
   "outputs": [
    {
     "name": "stderr",
     "output_type": "stream",
     "text": [
      "INFO:cmdstanpy:CmdStan start processing\n",
      "chain 1 |\u001b[34m██████████\u001b[0m| 00:00 Sampling completed"
     ]
    },
    {
     "name": "stdout",
     "output_type": "stream",
     "text": [
      "                                                                                "
     ]
    },
    {
     "name": "stderr",
     "output_type": "stream",
     "text": [
      "\n",
      "INFO:cmdstanpy:CmdStan done processing.\n"
     ]
    },
    {
     "name": "stdout",
     "output_type": "stream",
     "text": [
      "\n"
     ]
    }
   ],
   "source": [
    "sim=model_ppc.sample(data=data_sim, \n",
    "                     iter_sampling=R, \n",
    "                     iter_warmup=0, \n",
    "                     chains=1, \n",
    "                     refresh=R,\n",
    "                     fixed_param=True,\n",
    "                     seed=29042020)"
   ]
  },
  {
   "cell_type": "markdown",
   "metadata": {},
   "source": [
    "#### Task 5. Prior predictive checks\n",
    "1. Plot lines for each sampled slope beta and intercept alpha, verify if possible predicted heights are consistent with minimum (0) and maximum (check Wikipedia) heights observed in nature.\n",
    "2. For each simulated weight plot maximum, minimum, and 5, 25, 50, 75, 95 quantiles of simulated weight (all in the same plot). Compare with observed data. Is observed data possible within the prior model?"
   ]
  },
  {
   "cell_type": "code",
   "execution_count": 60,
   "metadata": {},
   "outputs": [],
   "source": [
    "# robicie se fora, w tym forze zakłdamy max min i 3 kwantyle (5 list) \n",
    "# do każdej lity append wyliczamy kwantyle, potem plotujemy listy\n",
    "\n"
   ]
  },
  {
   "cell_type": "markdown",
   "metadata": {},
   "source": [
    "### Fitting data\n"
   ]
  },
  {
   "cell_type": "code",
   "execution_count": 61,
   "metadata": {},
   "outputs": [
    {
     "name": "stderr",
     "output_type": "stream",
     "text": [
      "INFO:cmdstanpy:found newer exe file, not recompiling\n"
     ]
    }
   ],
   "source": [
    "model_2_fit=CmdStanModel(stan_file='stan_files/height_2_fit.stan')"
   ]
  },
  {
   "cell_type": "markdown",
   "metadata": {},
   "source": [
    "#### Task 6. Preparing data for fit\n",
    "1. Create ```data_fit``` dictionary containing data from  ```N``` first rows of dataframe"
   ]
  },
  {
   "cell_type": "code",
   "execution_count": 25,
   "metadata": {},
   "outputs": [
    {
     "ename": "NameError",
     "evalue": "name 'data_fit' is not defined",
     "output_type": "error",
     "traceback": [
      "\u001b[0;31m---------------------------------------------------------------------------\u001b[0m",
      "\u001b[0;31mNameError\u001b[0m                                 Traceback (most recent call last)",
      "\u001b[0;32m/tmp/ipykernel_5780/2068801986.py\u001b[0m in \u001b[0;36m<module>\u001b[0;34m\u001b[0m\n\u001b[0;32m----> 1\u001b[0;31m \u001b[0mfit\u001b[0m\u001b[0;34m=\u001b[0m\u001b[0mmodel_2_fit\u001b[0m\u001b[0;34m.\u001b[0m\u001b[0msample\u001b[0m\u001b[0;34m(\u001b[0m\u001b[0mdata\u001b[0m\u001b[0;34m=\u001b[0m\u001b[0mdata_fit\u001b[0m\u001b[0;34m,\u001b[0m\u001b[0mseed\u001b[0m\u001b[0;34m=\u001b[0m\u001b[0;36m28052020\u001b[0m\u001b[0;34m)\u001b[0m\u001b[0;34m\u001b[0m\u001b[0;34m\u001b[0m\u001b[0m\n\u001b[0m",
      "\u001b[0;31mNameError\u001b[0m: name 'data_fit' is not defined"
     ]
    }
   ],
   "source": [
    "fit=model_2_fit.sample(data=data_fit,seed=28052020)\n"
   ]
  },
  {
   "cell_type": "markdown",
   "metadata": {},
   "source": [
    "#### Task 7. Evaluating model\n",
    "\n",
    "1. Plot lines for each sampled slope beta and intercept alpha. Verify how uncertainity changes with increasing of sample (N)\n",
    "2. For each simulated weight plot maximum, minimum, and 5, 25, 50, 75, 95 quantiles of simulated weight (all in the same plot). Compare with observed data (N points). Is observed data possible within the posterior model? What changes when N increases.\n"
   ]
  }
 ],
 "metadata": {
  "interpreter": {
   "hash": "dec76d489b07b665fd6e3623e5629f717b1b30c784fea4bb610fb31850689f2f"
  },
  "kernelspec": {
   "display_name": "Python 3 (ipykernel)",
   "language": "python",
   "name": "python3"
  },
  "language_info": {
   "codemirror_mode": {
    "name": "ipython",
    "version": 3
   },
   "file_extension": ".py",
   "mimetype": "text/x-python",
   "name": "python",
   "nbconvert_exporter": "python",
   "pygments_lexer": "ipython3",
   "version": "3.8.12"
  }
 },
 "nbformat": 4,
 "nbformat_minor": 2
}
