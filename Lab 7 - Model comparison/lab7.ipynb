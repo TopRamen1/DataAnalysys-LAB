{
 "cells": [
  {
   "cell_type": "code",
   "execution_count": 5,
   "metadata": {},
   "outputs": [],
   "source": [
    "from cmdstanpy import CmdStanModel\n",
    "import arviz as az\n",
    "import numpy as np\n",
    "import scipy.stats as stats\n",
    "import pandas as pd\n",
    "import matplotlib.pyplot as plt"
   ]
  },
  {
   "cell_type": "code",
   "execution_count": 6,
   "metadata": {},
   "outputs": [],
   "source": [
    "# Parameters\n",
    "\n",
    "F = len(\"Nicolas\")\n",
    "L = len(\"Duc\")\n",
    "N = (F+L)*100"
   ]
  },
  {
   "cell_type": "markdown",
   "metadata": {},
   "source": [
    "EX1 - Generating data for rest of excercices"
   ]
  },
  {
   "cell_type": "code",
   "execution_count": 17,
   "metadata": {},
   "outputs": [
    {
     "name": "stderr",
     "output_type": "stream",
     "text": [
      "INFO:cmdstanpy:found newer exe file, not recompiling\n",
      "INFO:cmdstanpy:found newer exe file, not recompiling\n",
      "INFO:cmdstanpy:CmdStan start processing\n",
      "chain 1 |\u001b[34m██████████\u001b[0m| 00:00 Sampling completed                      "
     ]
    },
    {
     "name": "stdout",
     "output_type": "stream",
     "text": [
      "                                                                                "
     ]
    },
    {
     "name": "stderr",
     "output_type": "stream",
     "text": [
      "\n",
      "INFO:cmdstanpy:CmdStan done processing.\n",
      "INFO:cmdstanpy:CmdStan start processing\n"
     ]
    },
    {
     "name": "stdout",
     "output_type": "stream",
     "text": [
      "\n"
     ]
    },
    {
     "name": "stderr",
     "output_type": "stream",
     "text": [
      "chain 1 |\u001b[34m██████████\u001b[0m| 00:01 Sampling completed                      "
     ]
    },
    {
     "name": "stdout",
     "output_type": "stream",
     "text": [
      "                                                                                "
     ]
    },
    {
     "name": "stderr",
     "output_type": "stream",
     "text": [
      "\n",
      "INFO:cmdstanpy:CmdStan done processing.\n"
     ]
    },
    {
     "name": "stdout",
     "output_type": "stream",
     "text": [
      "\n"
     ]
    }
   ],
   "source": [
    "model_1 = CmdStanModel(stan_file = 'code_1.stan')\n",
    "model_2 = CmdStanModel(stan_file = 'code_2.stan')\n",
    "\n",
    "result_1 = model_1.sample(data = dict(N=N), fixed_param = True)\n",
    "result_2 = model_2.sample(data = dict(N=N), fixed_param=True)\n",
    "\n",
    "y1 = result_1.stan_variable('y')\n",
    "x2 = result_2.stan_variable('X')\n",
    "\n",
    "data_y1 = dict(N = N, y = y1[0])"
   ]
  },
  {
   "cell_type": "code",
   "execution_count": 16,
   "metadata": {},
   "outputs": [
    {
     "name": "stdout",
     "output_type": "stream",
     "text": [
      "{'N': 1000, 'y': array([ 4.72505e-01, -3.03443e-01, -1.01654e+00, -1.88905e-01,\n",
      "       -3.59042e-01, -8.35984e-01, -9.71384e-01,  3.55986e-01,\n",
      "        8.45812e-01, -1.90899e-01,  1.49266e-01, -1.64765e+00,\n",
      "        1.16547e+00,  1.91269e+00,  9.53297e-01,  8.72076e-01,\n",
      "        4.17651e-01, -1.06333e+00, -1.02510e-01,  3.65214e-02,\n",
      "        1.82973e-01, -1.29631e-01, -1.66888e+00,  1.36325e-01,\n",
      "       -1.90219e+00, -1.04628e+00,  1.19968e+00,  5.06664e-01,\n",
      "        6.59411e-02,  1.49453e+00, -1.32489e+00,  1.61828e+00,\n",
      "        5.32807e-02, -1.12622e+00,  9.14404e-01, -7.95845e-01,\n",
      "       -2.23859e+00, -6.83244e-01,  6.97875e-02,  4.07714e-01,\n",
      "        1.87106e-02, -5.06530e-01, -2.02752e+00, -9.66312e-01,\n",
      "       -1.29766e+00, -2.12184e-01,  7.73970e-01,  1.06593e-01,\n",
      "       -4.33027e-02,  2.36219e+00,  2.51074e-01, -8.95875e-02,\n",
      "       -1.89049e+00, -1.29669e+00,  2.09154e-01,  3.08639e-01,\n",
      "       -6.08366e-02,  8.85453e-01, -1.23960e+00,  5.51019e-01,\n",
      "       -3.53886e-01,  2.29615e+00,  2.05649e+00, -1.19533e+00,\n",
      "       -4.29414e-01,  5.85688e-01, -8.90096e-01, -8.92925e-01,\n",
      "       -2.83110e-01,  7.49634e-01, -1.07177e+00,  3.86432e-01,\n",
      "        1.35350e+00, -6.77660e-01, -6.90310e-01, -1.10400e-01,\n",
      "       -9.98240e-01,  2.44752e-01,  4.91098e-01, -1.11023e+00,\n",
      "        3.23391e-01, -1.00374e-01,  2.49374e-01, -9.29130e-01,\n",
      "       -2.57129e+00,  3.54480e-02,  1.72769e+00,  1.25546e+00,\n",
      "        3.95923e-01, -1.48469e+00, -1.23448e+00,  9.93530e-01,\n",
      "        1.07730e+00,  9.37154e-01, -9.02719e-01,  2.55714e-01,\n",
      "        7.56729e-01, -1.64701e+00, -8.93381e-03,  1.16970e+01,\n",
      "       -4.50320e-01,  5.70826e-01, -2.11417e-01,  4.33873e-01,\n",
      "       -4.54504e-01,  1.33173e+00, -1.76529e-01,  4.06380e-01,\n",
      "       -1.06816e+00,  5.25530e-01,  1.38411e-01, -4.08071e-01,\n",
      "        9.36338e-01,  4.61376e-01,  1.30090e+00, -1.21839e+00,\n",
      "        2.07110e-01, -6.81886e-01,  3.88438e-01,  1.27254e+00,\n",
      "        1.90561e-01,  9.61071e-01,  8.18582e-01, -2.13839e-01,\n",
      "        1.13446e-01, -1.23974e+00,  1.57746e-01,  8.49190e-01,\n",
      "        3.90248e+00, -2.25403e-01,  7.99955e-02, -1.09677e-01,\n",
      "       -6.24880e-02, -2.08811e+00, -6.94275e-01, -2.30624e-01,\n",
      "        4.89287e-02,  1.24696e+00, -7.84198e-01, -3.33554e-01,\n",
      "        1.30334e+00, -1.00398e+00,  2.38532e+00,  4.64124e-01,\n",
      "       -1.08346e+00,  6.89208e-01,  5.94427e-01, -8.02202e-01,\n",
      "       -1.31067e+00, -7.52076e-01, -4.22495e-01, -4.32660e-01,\n",
      "        4.74878e-01, -3.26566e-01, -2.49497e-01, -3.60516e-01,\n",
      "       -7.05887e-01, -4.50407e-01,  8.93664e-01,  1.83580e+00,\n",
      "       -1.65225e+00,  1.62044e-01, -1.83847e+00, -3.03532e-01,\n",
      "        1.60162e-01,  1.72324e-01, -8.92426e-01, -2.15182e+00,\n",
      "       -1.98814e+00, -2.14192e-01,  9.99491e-01, -7.20062e-01,\n",
      "       -1.29269e-01, -1.48383e+00, -1.88014e+00,  1.66706e+00,\n",
      "       -7.53844e-01,  1.03897e+00, -8.61637e-01,  2.31568e+00,\n",
      "        1.26885e+00, -1.12399e+00,  8.53716e-02,  1.15198e+00,\n",
      "        4.23497e-01,  6.20829e-01,  5.74191e-02, -1.44931e-01,\n",
      "       -1.53111e+00, -1.99431e+00, -1.20552e-01,  2.73520e-01,\n",
      "        1.74512e+00,  1.12313e+00, -1.78341e+00, -1.09967e+00,\n",
      "       -1.50987e+00, -1.75173e+00,  1.62518e+00,  8.11448e-01,\n",
      "       -1.13987e+00,  6.33557e-02, -8.15756e-01, -8.56758e-01,\n",
      "       -6.33822e-01,  2.85845e-01, -5.09315e-02,  8.92801e-01,\n",
      "       -3.48226e-01, -2.53709e-01,  4.14707e-01, -1.34265e+00,\n",
      "        1.21157e+00, -1.12148e+00, -5.15416e-01, -1.03785e+00,\n",
      "       -2.34589e+00,  6.63151e-01, -6.53845e-01, -1.28614e-01,\n",
      "       -1.55550e+00, -1.14888e-01,  8.62501e-01,  4.79704e-01,\n",
      "        1.31005e+00, -7.93945e-01, -6.01141e-02, -2.26175e-01,\n",
      "        2.79885e-01,  7.47544e-01, -2.01918e-01, -9.89927e-01,\n",
      "       -4.75770e-01, -1.92438e+00,  9.67190e-01,  1.04984e+00,\n",
      "        2.33994e-01,  9.86833e-01,  9.81643e-01, -5.09535e-01,\n",
      "        1.13965e+01,  7.06915e-01,  8.67972e-01, -8.76527e-02,\n",
      "        3.89371e-01, -6.24826e-01, -1.37069e-01, -1.05459e+00,\n",
      "        1.09072e-01,  3.80192e-01,  4.91525e-01, -6.42953e-01,\n",
      "       -1.76097e+00,  2.62067e-03, -1.27488e+00, -3.85806e-01,\n",
      "        5.10709e-01,  4.50237e-01,  4.20263e-02,  4.14710e-01,\n",
      "       -5.75565e-01, -1.37704e+00,  8.44567e-01, -9.19158e-01,\n",
      "        1.21820e+00,  3.10380e-01,  1.13538e-01, -1.86389e+00,\n",
      "        1.65228e+00,  3.93462e-01,  1.22776e-01,  8.07181e+00,\n",
      "        1.14834e+00, -1.19217e+00, -1.87950e-01,  4.06888e-01,\n",
      "        5.97000e-01,  6.69747e-01,  4.77980e-01, -4.86897e-01,\n",
      "        6.09055e-01,  1.54391e+00,  4.47761e-01, -9.87877e-01,\n",
      "       -6.58598e-01,  1.89518e+00,  8.42868e-01,  4.10904e-01,\n",
      "        3.10062e-01,  2.09397e+00, -4.39425e-01,  3.39366e-01,\n",
      "        2.94117e+00,  1.53218e+00,  2.82008e-02, -1.53908e+00,\n",
      "        7.93014e-01,  4.07037e-01,  9.63974e-02,  1.29533e+00,\n",
      "       -1.38565e+00,  1.11817e+00, -1.44944e-01, -6.40601e-01,\n",
      "        2.81892e-01, -2.07681e-01, -1.96448e-01,  1.38871e+00,\n",
      "        1.05143e+00,  1.20939e+00,  1.41359e-03,  1.58148e+00,\n",
      "       -5.17226e-01,  7.99046e-01,  2.92956e-01, -1.94711e-01,\n",
      "       -7.21789e-01,  1.22115e-01,  6.61470e-01, -5.53915e-01,\n",
      "        2.56734e-01,  8.91932e-01, -2.57544e+00, -2.82241e+00,\n",
      "       -1.54974e+00,  4.35958e-01,  1.23582e+00,  4.19902e-01,\n",
      "       -6.74771e-01, -1.53675e+00,  7.95539e-01, -5.79537e-01,\n",
      "       -3.52186e-01,  1.51860e-01, -1.44636e+00, -2.26142e-01,\n",
      "       -9.46107e-01, -1.40986e+00,  8.98541e-01,  2.12276e+00,\n",
      "        1.16791e+00,  3.76096e-01,  1.25271e+00, -1.44941e+00,\n",
      "       -6.26906e-01,  9.76847e-02, -3.84219e-01, -8.80075e-01,\n",
      "       -1.14499e+00,  1.02170e+00,  1.62206e+00, -4.49285e-01,\n",
      "       -3.33245e-01, -8.71002e-02,  1.16513e+00,  8.39707e-01,\n",
      "        3.82191e-01, -2.99986e+00,  9.15556e-01,  8.73217e-01,\n",
      "        9.51607e-01, -1.36414e+00, -5.76586e-01, -9.72845e-01,\n",
      "        1.04563e+00, -7.67090e-01,  1.55388e+00,  8.72771e-01,\n",
      "        7.97204e-01, -2.07371e-01,  4.37629e-01,  3.25699e+00,\n",
      "        6.96267e-01,  1.20788e+01,  1.17350e+00, -1.20536e+00,\n",
      "       -1.46341e+00, -9.79344e-03,  4.18575e-01, -1.27593e-01,\n",
      "       -2.12893e+00, -8.94738e-02, -3.24965e-01, -4.59956e-01,\n",
      "       -8.42953e-01,  1.09262e+00, -2.09515e+00, -6.96674e-02,\n",
      "        8.93888e-01, -1.26294e+00, -1.84950e-01, -2.06348e+00,\n",
      "        5.84194e-01, -4.34277e-01, -1.20426e+00,  1.86652e+00,\n",
      "        1.21506e+00,  2.29746e+00, -9.23668e-01,  3.93889e-01,\n",
      "       -6.09982e-01, -1.18220e+00, -3.89664e-01,  1.43404e+00,\n",
      "       -2.23652e-01,  1.42821e+00, -3.45913e-01, -1.37702e+00,\n",
      "       -7.97211e-01, -1.61023e+00,  4.00808e-01, -1.10621e+00,\n",
      "        1.10407e+00,  8.96885e-02, -2.10428e-01,  6.83047e-01,\n",
      "       -6.29985e-01,  3.72794e-01, -2.65380e+00,  1.14828e-01,\n",
      "        2.82330e+00, -1.20724e-01,  1.41764e+00, -5.58035e-01,\n",
      "        1.45649e+00, -8.64447e-01,  1.04412e+00,  8.90676e-01,\n",
      "       -3.99215e-01,  7.76566e-02,  7.40837e-01,  1.39695e+00,\n",
      "       -7.74722e-02,  3.11603e-01, -1.21434e-01, -6.41584e-01,\n",
      "        1.67684e+00, -1.12671e+00,  3.59990e-01, -1.59769e-01,\n",
      "       -2.15704e-01, -1.01277e+00,  1.68821e-01, -6.82639e-01,\n",
      "        1.79022e-01,  2.23856e-01,  3.52828e-01, -2.11735e-01,\n",
      "        1.43798e+00, -1.00888e+00,  5.40159e-01, -2.52607e-01,\n",
      "        1.20529e+00, -1.62881e+00,  6.10322e-01, -1.90530e+00,\n",
      "       -1.92003e-01,  3.97377e-02,  6.74659e-02, -1.50501e+00,\n",
      "        1.33292e+00, -1.37138e-01, -6.39688e-01, -3.62335e-01,\n",
      "        4.50568e-01, -2.61320e-01, -2.49143e+00, -4.23007e-01,\n",
      "        1.19949e+00,  2.04702e-01,  1.94738e-01, -7.67954e-01,\n",
      "       -7.78042e-01,  6.01941e-01,  2.02046e+00,  4.22601e-01,\n",
      "        7.04881e-02,  2.45624e-02,  1.09317e+00,  4.50543e-01,\n",
      "       -5.14299e-01,  6.41681e-01,  1.00090e+00, -1.52452e+00,\n",
      "       -3.93454e-01, -1.76273e+00, -6.33368e-01,  1.05725e+00,\n",
      "        9.77500e-03,  1.68299e+00,  1.19226e-02, -1.14748e-01,\n",
      "        7.21691e-01,  1.45162e+00,  2.06024e-02, -3.10434e-01,\n",
      "        1.01215e+00,  9.52577e-01, -5.49047e-01, -6.52370e-01,\n",
      "       -7.97409e-02, -1.07401e+00,  5.39566e-01, -2.13223e+00,\n",
      "        1.86573e-01, -8.83068e-01,  1.34161e+00, -8.63313e-01,\n",
      "       -2.20074e+00,  2.65052e-01,  1.00389e+00,  7.23641e-01,\n",
      "        3.52741e-01,  5.88419e-01, -6.45499e-01,  1.51520e+00,\n",
      "       -1.55506e+00,  1.48477e-01, -4.11222e-01, -1.40487e+00,\n",
      "        1.86934e+00, -1.04008e+00, -1.88845e+00,  2.18643e+00,\n",
      "        1.07040e+00,  1.56276e+00, -9.29580e-01, -5.71007e-01,\n",
      "       -2.06998e+00, -1.43354e+00, -1.95372e+00, -3.47705e-01,\n",
      "       -3.27543e-01, -1.32251e-01, -5.79464e-01, -1.22807e-01,\n",
      "        1.24855e+00, -1.53089e+00,  1.29616e-01,  1.40839e+00,\n",
      "       -1.11139e+00, -6.07777e-01, -3.76372e-01, -1.29450e+00,\n",
      "       -2.09348e-01,  1.57953e+00, -5.62185e-01, -1.80539e+00,\n",
      "        6.38654e-01,  9.14135e-01,  8.07798e-01, -1.37021e+00,\n",
      "        9.66492e-02, -7.39347e-01,  8.26367e-01, -2.54157e-01,\n",
      "        1.82017e+00, -5.41849e-01,  2.87333e-01,  1.04460e+00,\n",
      "       -2.33595e-01, -5.88715e-01, -1.33349e+00,  2.98144e+01,\n",
      "        6.80202e-01, -2.89359e+00,  1.67801e+00,  5.41778e-01,\n",
      "        7.15759e-01,  1.54390e+00, -1.81768e-01,  2.28581e-01,\n",
      "        8.49494e-01,  2.22938e+00, -3.41803e-01, -7.81315e-02,\n",
      "        3.32710e-01, -9.69302e-01,  8.69979e-01, -6.11476e-02,\n",
      "        4.11457e-02, -3.71505e-01,  1.07714e-01, -6.25222e-01,\n",
      "        1.13346e+00, -4.05970e-01, -4.28711e-02, -9.00392e-01,\n",
      "       -6.01720e-01,  1.98758e-01, -1.53846e-01, -1.25231e+00,\n",
      "        1.12310e+00,  1.40253e+00, -2.28406e-01, -4.19163e-03,\n",
      "        1.32426e+00, -1.55103e+00,  1.64493e-01, -1.16550e+00,\n",
      "        9.09473e-01,  1.93135e-01,  1.66066e+00,  1.80870e+00,\n",
      "       -8.51595e-01,  1.25479e+00, -1.40938e+00,  1.94644e+00,\n",
      "       -6.58509e-01,  4.91747e-01,  7.89514e-02,  6.40579e-02,\n",
      "        2.91496e+00, -1.33852e+00, -4.09465e-01, -1.80732e+00,\n",
      "       -5.33997e-01, -1.01985e+00, -3.89041e-01, -1.73951e+00,\n",
      "        1.09611e+00, -8.64857e-01,  1.96042e+00,  8.55985e-01,\n",
      "        2.06748e+00, -5.12013e-02,  1.78457e+00, -6.18564e-01,\n",
      "        1.33226e+00, -9.96119e-02, -3.48599e-01, -3.47370e-01,\n",
      "        2.96433e-01,  2.04046e+00,  8.15136e-01,  5.89386e-01,\n",
      "        7.65376e-01,  3.30125e-01,  6.93851e-02,  1.45496e+00,\n",
      "        4.11493e-01, -1.10234e+00, -1.32386e+00, -1.03065e+00,\n",
      "       -8.30527e-01, -2.66832e+00,  7.76324e-01,  2.24684e-01,\n",
      "       -7.69164e-01, -1.71066e+00, -4.35945e-01, -4.93718e-01,\n",
      "       -7.01863e-01, -8.36605e-01, -7.27542e-02,  1.01308e+00,\n",
      "        2.59209e-01,  5.89523e+00,  3.70081e-01, -2.33145e+00,\n",
      "        1.05171e+00,  1.57362e+00, -5.73106e-01,  2.07309e+00,\n",
      "       -7.83126e-01, -9.82659e-01, -7.65513e-01,  5.92333e-01,\n",
      "       -6.22937e-01,  2.08482e-02, -7.71992e-02,  8.29459e-01,\n",
      "        3.50523e-01, -1.51820e+00,  4.36578e-01, -1.31600e+00,\n",
      "        1.81327e+01, -2.31296e+00,  1.26609e+00,  5.17350e-01,\n",
      "       -1.05098e+00, -2.26760e-02,  1.76850e+00,  2.17246e-01,\n",
      "       -9.79944e-01, -9.67133e-01, -1.34440e+00,  6.37921e-01,\n",
      "       -2.98615e-01,  5.99715e-01, -3.44246e-02, -1.32866e+00,\n",
      "       -1.97781e+00, -1.46489e+00,  5.10446e-01, -1.23801e+00,\n",
      "        2.78867e+00,  1.34111e-01, -3.92562e-01,  9.81796e-01,\n",
      "        6.32867e-01,  2.72115e-01, -5.15893e-01, -3.47630e-01,\n",
      "        6.52858e-02,  2.61668e-01,  4.77768e-02,  1.00072e+00,\n",
      "        8.69537e-02, -8.45068e-02, -1.47071e+00,  6.85325e-01,\n",
      "       -1.46545e+00,  6.50646e-02,  8.42518e-01, -2.11354e-01,\n",
      "        1.02236e-01, -9.71761e-02, -6.37731e-01,  2.50097e-01,\n",
      "       -1.09583e-01,  1.31187e-01, -6.49313e-01, -3.08494e-01,\n",
      "        4.23583e-01,  1.66273e+00,  1.20938e+00, -1.27327e+00,\n",
      "        1.67595e+00,  5.38143e-01,  4.31086e-01,  2.09996e+00,\n",
      "        5.10897e-01,  1.07699e+00,  4.64207e-01,  8.08871e-01,\n",
      "       -6.03955e-01,  8.15641e-01,  1.53972e-01,  6.97361e-01,\n",
      "       -2.54482e-01, -1.82530e+00,  1.97503e+00,  1.59636e+00,\n",
      "       -9.03719e-01,  3.64227e-01,  7.89290e-01, -1.02664e+00,\n",
      "        7.33890e+00,  6.62544e-01,  2.21577e-01, -5.68305e-02,\n",
      "        9.78587e-01, -7.20364e-02, -3.63571e-02, -5.18292e-01,\n",
      "       -1.29697e+00,  6.54022e-01,  4.10438e-01, -5.66541e-01,\n",
      "       -8.25165e-02,  1.57810e+00, -8.81313e-01, -4.44209e-01,\n",
      "       -5.88217e-01, -1.42425e+00,  6.83834e-01,  6.09747e-01,\n",
      "       -4.58766e-01, -3.07749e-01,  8.68263e-01,  6.39420e-01,\n",
      "       -6.69591e-02,  1.17038e+00,  1.18506e+00,  9.02934e-01,\n",
      "       -7.90110e-02,  2.01600e+00,  5.73173e-02,  9.14172e-01,\n",
      "        1.87937e+00,  2.78600e-01,  9.84295e-01, -1.66592e+00,\n",
      "        2.55544e-01, -1.37347e-01,  1.13878e+00, -6.29623e-01,\n",
      "        1.32239e+00, -5.56455e-01, -1.03607e+00,  1.63389e+00,\n",
      "       -1.42945e+00, -1.09684e+00,  1.73669e+00,  6.21770e-01,\n",
      "        7.61221e-01, -1.74730e-01, -4.07845e-01, -9.66470e-01,\n",
      "       -1.18920e+00,  1.27837e-01,  3.37004e-01, -1.30776e+00,\n",
      "        1.18225e+00, -1.94367e-01,  1.02953e+00,  6.23213e-01,\n",
      "        2.95377e-01, -9.16792e-03,  2.11354e+01,  1.18457e-01,\n",
      "        1.86102e-01,  1.02628e+00,  4.51040e-01,  8.16150e-01,\n",
      "       -7.53426e-01,  6.05428e-01, -1.81032e-01,  8.85620e-01,\n",
      "       -8.57569e-01, -7.09863e-01, -3.17534e+00,  1.61309e+01,\n",
      "        4.88179e-01,  3.74692e-01,  3.65870e-01, -1.12628e-01,\n",
      "        2.83869e-01,  3.81452e-02,  1.62874e+00,  2.21469e+00,\n",
      "       -1.52470e-01,  1.98903e+00,  6.78298e-01, -1.02000e+00,\n",
      "       -3.04246e-01, -3.21536e-01,  2.45658e+00, -1.09136e+00,\n",
      "        4.28483e-01,  5.65670e-01, -9.63329e-01,  4.71920e-02,\n",
      "       -1.56464e+00, -1.54692e-01,  4.72726e-01,  8.79852e-01,\n",
      "       -4.78275e-01,  1.09948e-01, -1.14374e+00, -2.71544e+00,\n",
      "       -7.51007e-01,  1.07831e+00, -2.24527e-01, -2.02311e+00,\n",
      "        9.64177e-01, -1.16405e+00,  8.71620e-01,  1.20487e+00,\n",
      "        1.50770e+00,  6.94976e-01, -7.15337e-01,  2.38993e-02,\n",
      "       -1.20834e+00,  1.84778e+00, -1.29312e+00,  4.90509e-01,\n",
      "        1.63813e+00,  8.51696e-01,  6.01856e-01, -1.08632e-01,\n",
      "        6.18315e-01, -1.16448e+00,  5.66096e-01,  1.26447e+00,\n",
      "        1.23469e+00,  1.50132e+00,  8.46164e-01,  7.94260e-01,\n",
      "        4.23386e-01, -2.78096e-01, -8.14606e-02,  7.73104e-01,\n",
      "        4.76551e-01, -2.26779e-01, -8.13271e-01, -1.42792e-02,\n",
      "        3.45192e-01, -7.67548e-01,  1.68736e+00, -1.43330e+00,\n",
      "        1.12755e-01,  1.43205e+00, -5.18367e-01, -1.04697e+00,\n",
      "        1.32957e+00,  7.38262e-01,  2.20136e-01,  6.87479e-01,\n",
      "       -8.83612e-01, -7.21642e-01, -9.54025e-01, -3.13099e-01,\n",
      "        1.40613e+00, -6.70829e-01, -7.46724e-01,  5.72684e-01,\n",
      "        1.17255e+00,  9.92076e-01,  1.71109e+00, -2.53126e-01,\n",
      "       -6.63765e-01, -1.46403e+00, -5.96094e-01,  4.21013e-01,\n",
      "        1.51240e+00, -3.69629e-01,  1.44406e+00, -1.37882e+00,\n",
      "       -4.57236e-01,  1.09074e+00,  1.93277e-01, -8.21996e-01,\n",
      "        2.68466e-01, -6.29534e-01,  1.29469e+00,  6.61289e-02,\n",
      "        9.48898e-01, -4.32498e-01, -8.70322e-01,  1.24606e+00,\n",
      "        7.02620e-01,  5.26221e-01, -7.31898e-01,  6.33601e-01,\n",
      "        1.60934e+00,  1.30165e+00,  1.50971e+00,  6.15016e-02,\n",
      "       -6.80719e-01,  8.45154e-01, -1.25073e+00,  1.40024e+00,\n",
      "        1.88733e+00,  4.09588e-01,  1.09647e+00,  5.63215e-01,\n",
      "       -8.90180e-01, -1.71340e-01, -9.30871e-01, -1.38834e+00,\n",
      "        1.40687e+00, -2.54260e+00,  4.54748e-02,  3.91923e-01,\n",
      "        4.97051e-01,  1.20773e+00,  8.39562e-01,  1.71823e-01,\n",
      "        8.42345e-01, -7.28249e-01,  9.96843e-01,  7.17839e-01,\n",
      "       -1.15184e-01, -6.64713e-01,  1.00446e+00,  7.46618e-01,\n",
      "        2.98280e+00,  6.22963e-01,  9.12870e-01, -6.62093e-01,\n",
      "        6.76763e-01,  2.68946e-01, -5.95860e-01,  8.53965e-01,\n",
      "        1.36492e+00, -1.47152e-01, -3.05749e-01, -1.06956e+00,\n",
      "       -1.46124e+00, -5.19461e-01, -5.94385e-01, -1.48376e+00,\n",
      "       -6.44590e-01,  1.64369e+00,  1.07299e+00, -1.85502e+00,\n",
      "        2.54152e-01,  1.45713e+00,  4.47823e-01, -2.52818e+00,\n",
      "       -1.20637e+00, -1.27577e+00,  1.70705e+00, -3.17292e-01,\n",
      "        8.11307e-01, -3.08781e-01, -4.01082e-01, -6.36473e-01])}\n"
     ]
    }
   ],
   "source": [
    "print(data_y1)"
   ]
  },
  {
   "cell_type": "markdown",
   "metadata": {},
   "source": [
    "EX2 - Model comparison"
   ]
  },
  {
   "cell_type": "code",
   "execution_count": null,
   "metadata": {},
   "outputs": [],
   "source": []
  },
  {
   "cell_type": "code",
   "execution_count": 28,
   "metadata": {},
   "outputs": [
    {
     "name": "stderr",
     "output_type": "stream",
     "text": [
      "INFO:cmdstanpy:found newer exe file, not recompiling\n",
      "INFO:cmdstanpy:CmdStan start processing\n",
      "chain 1 |\u001b[33m          \u001b[0m| 00:00 Status\n",
      "\u001b[A\n",
      "\n",
      "chain 1 |\u001b[34m█████▉    \u001b[0m| 00:00 Iteration: 1001 / 2000 [ 50%]  (Sampling)\n",
      "\u001b[A\n",
      "\n",
      "chain 1 |\u001b[34m██████████\u001b[0m| 00:00 Iteration: 1900 / 2000 [ 95%]  (Sampling)\n",
      "\n",
      "\u001b[A\u001b[A\n",
      "chain 1 |\u001b[34m██████████\u001b[0m| 00:00 Sampling completed                       \n",
      "chain 2 |\u001b[34m██████████\u001b[0m| 00:00 Sampling completed                       \n",
      "chain 3 |\u001b[34m██████████\u001b[0m| 00:00 Sampling completed                       \n",
      "chain 4 |\u001b[34m██████████\u001b[0m| 00:00 Sampling completed                       "
     ]
    },
    {
     "name": "stdout",
     "output_type": "stream",
     "text": [
      "                                                                                                                                                                                                                                                                                                                                "
     ]
    },
    {
     "name": "stderr",
     "output_type": "stream",
     "text": [
      "\n",
      "INFO:cmdstanpy:CmdStan done processing.\n"
     ]
    },
    {
     "name": "stdout",
     "output_type": "stream",
     "text": [
      "\n"
     ]
    },
    {
     "name": "stderr",
     "output_type": "stream",
     "text": [
      "INFO:cmdstanpy:found newer exe file, not recompiling\n",
      "INFO:cmdstanpy:CmdStan start processing\n",
      "chain 1 |\u001b[33m          \u001b[0m| 00:00 Status\n",
      "\u001b[A\n",
      "\n",
      "\u001b[A\u001b[A\n",
      "\n",
      "chain 1 |\u001b[33m███▏      \u001b[0m| 00:00 Iteration:  500 / 2000 [ 25%]  (Warmup)\n",
      "\u001b[A\n",
      "\n",
      "\u001b[A\u001b[A\n",
      "chain 1 |\u001b[34m██████▎   \u001b[0m| 00:00 Iteration: 1100 / 2000 [ 55%]  (Sampling)\n",
      "\n",
      "\u001b[A\u001b[A\n",
      "chain 1 |\u001b[34m████████▋ \u001b[0m| 00:01 Iteration: 1600 / 2000 [ 80%]  (Sampling)\n",
      "\n",
      "\u001b[A\u001b[A\n",
      "chain 1 |\u001b[34m██████████\u001b[0m| 00:01 Sampling completed                       \n",
      "chain 2 |\u001b[34m██████████\u001b[0m| 00:01 Sampling completed                       \n",
      "chain 3 |\u001b[34m██████████\u001b[0m| 00:01 Sampling completed                       \n",
      "chain 4 |\u001b[34m██████████\u001b[0m| 00:01 Sampling completed                       "
     ]
    },
    {
     "name": "stdout",
     "output_type": "stream",
     "text": [
      "                                                                                                                                                                                                                                                                                                                                "
     ]
    },
    {
     "name": "stderr",
     "output_type": "stream",
     "text": [
      "\n",
      "INFO:cmdstanpy:CmdStan done processing.\n"
     ]
    },
    {
     "name": "stdout",
     "output_type": "stream",
     "text": [
      "\n"
     ]
    }
   ],
   "source": [
    "model_3 = CmdStanModel(stan_file = 'code_3.stan')\n",
    "model_3_simulated = model_3.sample(data=data_y1, seed=21370204)\n",
    "model_4 = CmdStanModel(stan_file = 'code_4.stan')\n",
    "model_4_simulated = model_4.sample(data=data_y1, seed=21370204)\n"
   ]
  },
  {
   "cell_type": "code",
   "execution_count": 24,
   "metadata": {},
   "outputs": [
    {
     "name": "stderr",
     "output_type": "stream",
     "text": [
      "/home/nicolas/anaconda3/envs/cmdstan/lib/python3.8/site-packages/arviz/stats/stats.py:145: UserWarning: The default method used to estimate the weights for each model,has changed from BB-pseudo-BMA to stacking\n",
      "  warnings.warn(\n",
      "/home/nicolas/anaconda3/envs/cmdstan/lib/python3.8/site-packages/arviz/stats/stats.py:655: UserWarning: Estimated shape parameter of Pareto distribution is greater than 0.7 for one or more samples. You should consider using a more robust model, this is because importance sampling is less likely to work well if the marginal posterior and LOO posterior are very different. This is more likely to happen with a non-robust model and highly influential observations.\n",
      "  warnings.warn(\n",
      "/home/nicolas/anaconda3/envs/cmdstan/lib/python3.8/site-packages/arviz/stats/stats.py:212: FutureWarning: The frame.append method is deprecated and will be removed from pandas in a future version. Use pandas.concat instead.\n",
      "  ics = ics.append([ic_func(dataset, pointwise=True, scale=scale)])\n",
      "/home/nicolas/anaconda3/envs/cmdstan/lib/python3.8/site-packages/arviz/stats/stats.py:212: FutureWarning: The frame.append method is deprecated and will be removed from pandas in a future version. Use pandas.concat instead.\n",
      "  ics = ics.append([ic_func(dataset, pointwise=True, scale=scale)])\n",
      "/home/nicolas/anaconda3/envs/cmdstan/lib/python3.8/site-packages/arviz/stats/stats.py:145: UserWarning: The default method used to estimate the weights for each model,has changed from BB-pseudo-BMA to stacking\n",
      "  warnings.warn(\n",
      "/home/nicolas/anaconda3/envs/cmdstan/lib/python3.8/site-packages/arviz/stats/stats.py:1405: UserWarning: For one or more samples the posterior variance of the log predictive densities exceeds 0.4. This could be indication of WAIC starting to fail. \n",
      "See http://arxiv.org/abs/1507.04544 for details\n",
      "  warnings.warn(\n",
      "/home/nicolas/anaconda3/envs/cmdstan/lib/python3.8/site-packages/arviz/stats/stats.py:212: FutureWarning: The frame.append method is deprecated and will be removed from pandas in a future version. Use pandas.concat instead.\n",
      "  ics = ics.append([ic_func(dataset, pointwise=True, scale=scale)])\n",
      "/home/nicolas/anaconda3/envs/cmdstan/lib/python3.8/site-packages/arviz/stats/stats.py:1405: UserWarning: For one or more samples the posterior variance of the log predictive densities exceeds 0.4. This could be indication of WAIC starting to fail. \n",
      "See http://arxiv.org/abs/1507.04544 for details\n",
      "  warnings.warn(\n",
      "/home/nicolas/anaconda3/envs/cmdstan/lib/python3.8/site-packages/arviz/stats/stats.py:212: FutureWarning: The frame.append method is deprecated and will be removed from pandas in a future version. Use pandas.concat instead.\n",
      "  ics = ics.append([ic_func(dataset, pointwise=True, scale=scale)])\n"
     ]
    }
   ],
   "source": [
    "# Comparing 2 models: model_1 - with AGE only, model_2 - with AGE and BMI\n",
    "idata1 = az.from_cmdstanpy(posterior = model_3_simulated, log_likelihood = \"log_lik\")\n",
    "idata2 = az.from_cmdstanpy(posterior = model_4_simulated, log_likelihood = \"log_lik\") \n",
    "compare_dict = {\"model_3\": idata1, \"model_4\": idata2}\n",
    "\n",
    "out_loo = az.compare(compare_dict, ic = \"loo\")\n",
    "out_waic = az.compare(compare_dict, ic = \"waic\") # loo stands for leave one out cross validation"
   ]
  },
  {
   "cell_type": "code",
   "execution_count": 25,
   "metadata": {},
   "outputs": [
    {
     "data": {
      "text/html": [
       "<div>\n",
       "<style scoped>\n",
       "    .dataframe tbody tr th:only-of-type {\n",
       "        vertical-align: middle;\n",
       "    }\n",
       "\n",
       "    .dataframe tbody tr th {\n",
       "        vertical-align: top;\n",
       "    }\n",
       "\n",
       "    .dataframe thead th {\n",
       "        text-align: right;\n",
       "    }\n",
       "</style>\n",
       "<table border=\"1\" class=\"dataframe\">\n",
       "  <thead>\n",
       "    <tr style=\"text-align: right;\">\n",
       "      <th></th>\n",
       "      <th>rank</th>\n",
       "      <th>loo</th>\n",
       "      <th>p_loo</th>\n",
       "      <th>d_loo</th>\n",
       "      <th>weight</th>\n",
       "      <th>se</th>\n",
       "      <th>dse</th>\n",
       "      <th>warning</th>\n",
       "      <th>loo_scale</th>\n",
       "    </tr>\n",
       "  </thead>\n",
       "  <tbody>\n",
       "    <tr>\n",
       "      <th>model_4</th>\n",
       "      <td>0</td>\n",
       "      <td>-1525.548701</td>\n",
       "      <td>4.460458</td>\n",
       "      <td>0.000000</td>\n",
       "      <td>1.0</td>\n",
       "      <td>35.787799</td>\n",
       "      <td>0.000000</td>\n",
       "      <td>False</td>\n",
       "      <td>log</td>\n",
       "    </tr>\n",
       "    <tr>\n",
       "      <th>model_3</th>\n",
       "      <td>1</td>\n",
       "      <td>-1961.388414</td>\n",
       "      <td>49.764000</td>\n",
       "      <td>435.839712</td>\n",
       "      <td>0.0</td>\n",
       "      <td>178.939686</td>\n",
       "      <td>158.409434</td>\n",
       "      <td>True</td>\n",
       "      <td>log</td>\n",
       "    </tr>\n",
       "  </tbody>\n",
       "</table>\n",
       "</div>"
      ],
      "text/plain": [
       "         rank          loo      p_loo       d_loo  weight          se  \\\n",
       "model_4     0 -1525.548701   4.460458    0.000000     1.0   35.787799   \n",
       "model_3     1 -1961.388414  49.764000  435.839712     0.0  178.939686   \n",
       "\n",
       "                dse  warning loo_scale  \n",
       "model_4    0.000000    False       log  \n",
       "model_3  158.409434     True       log  "
      ]
     },
     "execution_count": 25,
     "metadata": {},
     "output_type": "execute_result"
    },
    {
     "data": {
      "image/png": "[encoded data removed]",
      "text/plain": [
       "<Figure size 432x144 with 1 Axes>"
      ]
     },
     "metadata": {
      "needs_background": "light"
     },
     "output_type": "display_data"
    }
   ],
   "source": [
    "az.plot_compare(out_loo)\n",
    "out_loo"
   ]
  },
  {
   "cell_type": "code",
   "execution_count": 26,
   "metadata": {},
   "outputs": [
    {
     "data": {
      "text/html": [
       "<div>\n",
       "<style scoped>\n",
       "    .dataframe tbody tr th:only-of-type {\n",
       "        vertical-align: middle;\n",
       "    }\n",
       "\n",
       "    .dataframe tbody tr th {\n",
       "        vertical-align: top;\n",
       "    }\n",
       "\n",
       "    .dataframe thead th {\n",
       "        text-align: right;\n",
       "    }\n",
       "</style>\n",
       "<table border=\"1\" class=\"dataframe\">\n",
       "  <thead>\n",
       "    <tr style=\"text-align: right;\">\n",
       "      <th></th>\n",
       "      <th>rank</th>\n",
       "      <th>waic</th>\n",
       "      <th>p_waic</th>\n",
       "      <th>d_waic</th>\n",
       "      <th>weight</th>\n",
       "      <th>se</th>\n",
       "      <th>dse</th>\n",
       "      <th>warning</th>\n",
       "      <th>waic_scale</th>\n",
       "    </tr>\n",
       "  </thead>\n",
       "  <tbody>\n",
       "    <tr>\n",
       "      <th>model_4</th>\n",
       "      <td>0</td>\n",
       "      <td>-1525.543269</td>\n",
       "      <td>4.455025</td>\n",
       "      <td>0.000000</td>\n",
       "      <td>1.0</td>\n",
       "      <td>35.785866</td>\n",
       "      <td>0.000000</td>\n",
       "      <td>True</td>\n",
       "      <td>log</td>\n",
       "    </tr>\n",
       "    <tr>\n",
       "      <th>model_3</th>\n",
       "      <td>1</td>\n",
       "      <td>-1962.653851</td>\n",
       "      <td>51.029437</td>\n",
       "      <td>437.110582</td>\n",
       "      <td>0.0</td>\n",
       "      <td>179.982244</td>\n",
       "      <td>159.483497</td>\n",
       "      <td>True</td>\n",
       "      <td>log</td>\n",
       "    </tr>\n",
       "  </tbody>\n",
       "</table>\n",
       "</div>"
      ],
      "text/plain": [
       "         rank         waic     p_waic      d_waic  weight          se  \\\n",
       "model_4     0 -1525.543269   4.455025    0.000000     1.0   35.785866   \n",
       "model_3     1 -1962.653851  51.029437  437.110582     0.0  179.982244   \n",
       "\n",
       "                dse  warning waic_scale  \n",
       "model_4    0.000000     True        log  \n",
       "model_3  159.483497     True        log  "
      ]
     },
     "execution_count": 26,
     "metadata": {},
     "output_type": "execute_result"
    },
    {
     "data": {
      "image/png": "[encoded data removed]",
      "text/plain": [
       "<Figure size 432x144 with 1 Axes>"
      ]
     },
     "metadata": {
      "needs_background": "light"
     },
     "output_type": "display_data"
    }
   ],
   "source": [
    "az.plot_compare(out_waic)\n",
    "out_waic"
   ]
  },
  {
   "cell_type": "code",
   "execution_count": 29,
   "metadata": {},
   "outputs": [
    {
     "data": {
      "text/plain": [
       "(1000, 1000)"
      ]
     },
     "execution_count": 29,
     "metadata": {},
     "output_type": "execute_result"
    }
   ],
   "source": [
    "y1.shape"
   ]
  },
  {
   "cell_type": "code",
   "execution_count": 30,
   "metadata": {},
   "outputs": [
    {
     "data": {
      "text/plain": [
       "(1000, 1000, 3)"
      ]
     },
     "execution_count": 30,
     "metadata": {},
     "output_type": "execute_result"
    }
   ],
   "source": [
    "x2.shape"
   ]
  },
  {
   "cell_type": "code",
   "execution_count": 36,
   "metadata": {},
   "outputs": [
    {
     "name": "stderr",
     "output_type": "stream",
     "text": [
      "INFO:cmdstanpy:compiling stan file /home/nicolas/Projects/DataAnalysys-LAB/Lab 7 - Model comparison/code_5.stan to exe file /home/nicolas/Projects/DataAnalysys-LAB/Lab 7 - Model comparison/code_5\n",
      "INFO:cmdstanpy:compiled model executable: /home/nicolas/Projects/DataAnalysys-LAB/Lab 7 - Model comparison/code_5\n",
      "INFO:cmdstanpy:CmdStan start processing\n",
      "chain 1 |\u001b[34m██████████\u001b[0m| 00:01 Sampling completed                      "
     ]
    },
    {
     "name": "stdout",
     "output_type": "stream",
     "text": [
      "                                                                                "
     ]
    },
    {
     "name": "stderr",
     "output_type": "stream",
     "text": [
      "\n",
      "INFO:cmdstanpy:CmdStan done processing.\n",
      "INFO:cmdstanpy:CmdStan start processing\n"
     ]
    },
    {
     "name": "stdout",
     "output_type": "stream",
     "text": [
      "\n"
     ]
    },
    {
     "name": "stderr",
     "output_type": "stream",
     "text": [
      "chain 1 |\u001b[34m██████████\u001b[0m| 00:01 Sampling completed                      "
     ]
    },
    {
     "name": "stdout",
     "output_type": "stream",
     "text": [
      "                                                                                "
     ]
    },
    {
     "name": "stderr",
     "output_type": "stream",
     "text": [
      "\n",
      "INFO:cmdstanpy:CmdStan done processing.\n",
      "INFO:cmdstanpy:CmdStan start processing\n"
     ]
    },
    {
     "name": "stdout",
     "output_type": "stream",
     "text": [
      "\n"
     ]
    },
    {
     "name": "stderr",
     "output_type": "stream",
     "text": [
      "chain 1 |\u001b[34m██████████\u001b[0m| 00:01 Sampling completed                      "
     ]
    },
    {
     "name": "stdout",
     "output_type": "stream",
     "text": [
      "                                                                                "
     ]
    },
    {
     "name": "stderr",
     "output_type": "stream",
     "text": [
      "\n",
      "INFO:cmdstanpy:CmdStan done processing.\n"
     ]
    },
    {
     "name": "stdout",
     "output_type": "stream",
     "text": [
      "\n"
     ]
    }
   ],
   "source": [
    "model_5 = CmdStanModel(stan_file = 'code_5.stan')\n",
    "\n",
    "num = 5\n",
    "\n",
    "# One predictor\n",
    "data_1 = dict(N = N, K = 1, y = y1[num], X = x2[num,:,0:1])\n",
    "result_1 = model_5.sample(data = data_1, fixed_param = True)\n",
    "\n",
    "# Two predictor\n",
    "data_2 = dict(N = N, K = 2, y = y1[num], X = x2[num,:,0:2])\n",
    "result_2 = model_5.sample(data = data_5_2, fixed_param = True)\n",
    "\n",
    "# Three predictor\n",
    "data_3 = dict(N = N, K = 3, y = y1[num], X = x2[num,:,0:3])\n",
    "result_3 = model_5.sample(data = data_5_3, fixed_param = True)"
   ]
  },
  {
   "cell_type": "code",
   "execution_count": 37,
   "metadata": {},
   "outputs": [
    {
     "name": "stderr",
     "output_type": "stream",
     "text": [
      "/home/nicolas/anaconda3/envs/cmdstan/lib/python3.8/site-packages/arviz/stats/stats.py:145: UserWarning: The default method used to estimate the weights for each model,has changed from BB-pseudo-BMA to stacking\n",
      "  warnings.warn(\n",
      "/home/nicolas/anaconda3/envs/cmdstan/lib/python3.8/site-packages/arviz/stats/stats.py:655: UserWarning: Estimated shape parameter of Pareto distribution is greater than 0.7 for one or more samples. You should consider using a more robust model, this is because importance sampling is less likely to work well if the marginal posterior and LOO posterior are very different. This is more likely to happen with a non-robust model and highly influential observations.\n",
      "  warnings.warn(\n",
      "/home/nicolas/anaconda3/envs/cmdstan/lib/python3.8/site-packages/arviz/stats/stats.py:212: FutureWarning: The frame.append method is deprecated and will be removed from pandas in a future version. Use pandas.concat instead.\n",
      "  ics = ics.append([ic_func(dataset, pointwise=True, scale=scale)])\n",
      "/home/nicolas/anaconda3/envs/cmdstan/lib/python3.8/site-packages/arviz/stats/stats.py:655: UserWarning: Estimated shape parameter of Pareto distribution is greater than 0.7 for one or more samples. You should consider using a more robust model, this is because importance sampling is less likely to work well if the marginal posterior and LOO posterior are very different. This is more likely to happen with a non-robust model and highly influential observations.\n",
      "  warnings.warn(\n",
      "/home/nicolas/anaconda3/envs/cmdstan/lib/python3.8/site-packages/arviz/stats/stats.py:212: FutureWarning: The frame.append method is deprecated and will be removed from pandas in a future version. Use pandas.concat instead.\n",
      "  ics = ics.append([ic_func(dataset, pointwise=True, scale=scale)])\n",
      "/home/nicolas/anaconda3/envs/cmdstan/lib/python3.8/site-packages/arviz/stats/stats.py:655: UserWarning: Estimated shape parameter of Pareto distribution is greater than 0.7 for one or more samples. You should consider using a more robust model, this is because importance sampling is less likely to work well if the marginal posterior and LOO posterior are very different. This is more likely to happen with a non-robust model and highly influential observations.\n",
      "  warnings.warn(\n",
      "/home/nicolas/anaconda3/envs/cmdstan/lib/python3.8/site-packages/arviz/stats/stats.py:212: FutureWarning: The frame.append method is deprecated and will be removed from pandas in a future version. Use pandas.concat instead.\n",
      "  ics = ics.append([ic_func(dataset, pointwise=True, scale=scale)])\n",
      "/home/nicolas/anaconda3/envs/cmdstan/lib/python3.8/site-packages/arviz/stats/stats.py:229: RuntimeWarning: divide by zero encountered in log\n",
      "  score += np.log(np.dot(exp_ic_i[i], w_full))\n",
      "/home/nicolas/anaconda3/envs/cmdstan/lib/python3.8/site-packages/arviz/stats/stats.py:145: UserWarning: The default method used to estimate the weights for each model,has changed from BB-pseudo-BMA to stacking\n",
      "  warnings.warn(\n",
      "/home/nicolas/anaconda3/envs/cmdstan/lib/python3.8/site-packages/arviz/stats/stats.py:212: FutureWarning: The frame.append method is deprecated and will be removed from pandas in a future version. Use pandas.concat instead.\n",
      "  ics = ics.append([ic_func(dataset, pointwise=True, scale=scale)])\n",
      "/home/nicolas/anaconda3/envs/cmdstan/lib/python3.8/site-packages/arviz/stats/stats.py:212: FutureWarning: The frame.append method is deprecated and will be removed from pandas in a future version. Use pandas.concat instead.\n",
      "  ics = ics.append([ic_func(dataset, pointwise=True, scale=scale)])\n",
      "/home/nicolas/anaconda3/envs/cmdstan/lib/python3.8/site-packages/arviz/stats/stats.py:212: FutureWarning: The frame.append method is deprecated and will be removed from pandas in a future version. Use pandas.concat instead.\n",
      "  ics = ics.append([ic_func(dataset, pointwise=True, scale=scale)])\n",
      "/home/nicolas/anaconda3/envs/cmdstan/lib/python3.8/site-packages/arviz/stats/stats.py:229: RuntimeWarning: divide by zero encountered in log\n",
      "  score += np.log(np.dot(exp_ic_i[i], w_full))\n"
     ]
    }
   ],
   "source": [
    "# Comparing 2 models: model_1 - with AGE only, model_2 - with AGE and BMI\n",
    "idata1 = az.from_cmdstanpy(posterior = result_1, log_likelihood = \"log_lik\")\n",
    "idata2 = az.from_cmdstanpy(posterior = result_2, log_likelihood = \"log_lik\") \n",
    "idata3 = az.from_cmdstanpy(posterior = result_3, log_likelihood = \"log_lik\") \n",
    "\n",
    "compare_dict = {\"1 pred\": idata1, \"2 pred\": idata2 , \"3 pred\": idata3}\n",
    "\n",
    "out_loo = az.compare(compare_dict, ic = \"loo\")\n",
    "out_waic = az.compare(compare_dict, ic = \"waic\") # loo stands for leave one out cross validation"
   ]
  },
  {
   "cell_type": "code",
   "execution_count": 39,
   "metadata": {},
   "outputs": [
    {
     "data": {
      "text/html": [
       "<div>\n",
       "<style scoped>\n",
       "    .dataframe tbody tr th:only-of-type {\n",
       "        vertical-align: middle;\n",
       "    }\n",
       "\n",
       "    .dataframe tbody tr th {\n",
       "        vertical-align: top;\n",
       "    }\n",
       "\n",
       "    .dataframe thead th {\n",
       "        text-align: right;\n",
       "    }\n",
       "</style>\n",
       "<table border=\"1\" class=\"dataframe\">\n",
       "  <thead>\n",
       "    <tr style=\"text-align: right;\">\n",
       "      <th></th>\n",
       "      <th>rank</th>\n",
       "      <th>loo</th>\n",
       "      <th>p_loo</th>\n",
       "      <th>d_loo</th>\n",
       "      <th>weight</th>\n",
       "      <th>se</th>\n",
       "      <th>dse</th>\n",
       "      <th>warning</th>\n",
       "      <th>loo_scale</th>\n",
       "    </tr>\n",
       "  </thead>\n",
       "  <tbody>\n",
       "    <tr>\n",
       "      <th>3 pred</th>\n",
       "      <td>0</td>\n",
       "      <td>-4580.660430</td>\n",
       "      <td>0.0</td>\n",
       "      <td>0.000000</td>\n",
       "      <td>0.121974</td>\n",
       "      <td>493.540390</td>\n",
       "      <td>0.000000</td>\n",
       "      <td>True</td>\n",
       "      <td>log</td>\n",
       "    </tr>\n",
       "    <tr>\n",
       "      <th>2 pred</th>\n",
       "      <td>1</td>\n",
       "      <td>-5554.113610</td>\n",
       "      <td>0.0</td>\n",
       "      <td>973.453180</td>\n",
       "      <td>0.206185</td>\n",
       "      <td>671.785084</td>\n",
       "      <td>317.532394</td>\n",
       "      <td>True</td>\n",
       "      <td>log</td>\n",
       "    </tr>\n",
       "    <tr>\n",
       "      <th>1 pred</th>\n",
       "      <td>2</td>\n",
       "      <td>-8164.355043</td>\n",
       "      <td>0.0</td>\n",
       "      <td>3583.694613</td>\n",
       "      <td>0.671841</td>\n",
       "      <td>2305.620243</td>\n",
       "      <td>1833.437499</td>\n",
       "      <td>True</td>\n",
       "      <td>log</td>\n",
       "    </tr>\n",
       "  </tbody>\n",
       "</table>\n",
       "</div>"
      ],
      "text/plain": [
       "        rank          loo  p_loo        d_loo    weight           se  \\\n",
       "3 pred     0 -4580.660430    0.0     0.000000  0.121974   493.540390   \n",
       "2 pred     1 -5554.113610    0.0   973.453180  0.206185   671.785084   \n",
       "1 pred     2 -8164.355043    0.0  3583.694613  0.671841  2305.620243   \n",
       "\n",
       "                dse  warning loo_scale  \n",
       "3 pred     0.000000     True       log  \n",
       "2 pred   317.532394     True       log  \n",
       "1 pred  1833.437499     True       log  "
      ]
     },
     "execution_count": 39,
     "metadata": {},
     "output_type": "execute_result"
    },
    {
     "data": {
      "image/png": "[encoded data removed]",
      "text/plain": [
       "<Figure size 432x216 with 1 Axes>"
      ]
     },
     "metadata": {
      "needs_background": "light"
     },
     "output_type": "display_data"
    }
   ],
   "source": [
    "az.plot_compare(out_loo)\n",
    "out_loo"
   ]
  },
  {
   "cell_type": "code",
   "execution_count": 38,
   "metadata": {},
   "outputs": [
    {
     "data": {
      "text/html": [
       "<div>\n",
       "<style scoped>\n",
       "    .dataframe tbody tr th:only-of-type {\n",
       "        vertical-align: middle;\n",
       "    }\n",
       "\n",
       "    .dataframe tbody tr th {\n",
       "        vertical-align: top;\n",
       "    }\n",
       "\n",
       "    .dataframe thead th {\n",
       "        text-align: right;\n",
       "    }\n",
       "</style>\n",
       "<table border=\"1\" class=\"dataframe\">\n",
       "  <thead>\n",
       "    <tr style=\"text-align: right;\">\n",
       "      <th></th>\n",
       "      <th>rank</th>\n",
       "      <th>waic</th>\n",
       "      <th>p_waic</th>\n",
       "      <th>d_waic</th>\n",
       "      <th>weight</th>\n",
       "      <th>se</th>\n",
       "      <th>dse</th>\n",
       "      <th>warning</th>\n",
       "      <th>waic_scale</th>\n",
       "    </tr>\n",
       "  </thead>\n",
       "  <tbody>\n",
       "    <tr>\n",
       "      <th>3 pred</th>\n",
       "      <td>0</td>\n",
       "      <td>-4580.660430</td>\n",
       "      <td>4.238963e-23</td>\n",
       "      <td>0.000000</td>\n",
       "      <td>0.121974</td>\n",
       "      <td>493.540390</td>\n",
       "      <td>0.000000</td>\n",
       "      <td>False</td>\n",
       "      <td>log</td>\n",
       "    </tr>\n",
       "    <tr>\n",
       "      <th>2 pred</th>\n",
       "      <td>1</td>\n",
       "      <td>-5554.113610</td>\n",
       "      <td>8.581801e-23</td>\n",
       "      <td>973.453180</td>\n",
       "      <td>0.206185</td>\n",
       "      <td>671.785084</td>\n",
       "      <td>317.532394</td>\n",
       "      <td>False</td>\n",
       "      <td>log</td>\n",
       "    </tr>\n",
       "    <tr>\n",
       "      <th>1 pred</th>\n",
       "      <td>2</td>\n",
       "      <td>-8164.355043</td>\n",
       "      <td>2.377208e-22</td>\n",
       "      <td>3583.694613</td>\n",
       "      <td>0.671841</td>\n",
       "      <td>2305.620243</td>\n",
       "      <td>1833.437499</td>\n",
       "      <td>False</td>\n",
       "      <td>log</td>\n",
       "    </tr>\n",
       "  </tbody>\n",
       "</table>\n",
       "</div>"
      ],
      "text/plain": [
       "        rank         waic        p_waic       d_waic    weight           se  \\\n",
       "3 pred     0 -4580.660430  4.238963e-23     0.000000  0.121974   493.540390   \n",
       "2 pred     1 -5554.113610  8.581801e-23   973.453180  0.206185   671.785084   \n",
       "1 pred     2 -8164.355043  2.377208e-22  3583.694613  0.671841  2305.620243   \n",
       "\n",
       "                dse  warning waic_scale  \n",
       "3 pred     0.000000    False        log  \n",
       "2 pred   317.532394    False        log  \n",
       "1 pred  1833.437499    False        log  "
      ]
     },
     "execution_count": 38,
     "metadata": {},
     "output_type": "execute_result"
    },
    {
     "data": {
      "image/png": "[encoded data removed]",
      "text/plain": [
       "<Figure size 432x216 with 1 Axes>"
      ]
     },
     "metadata": {
      "needs_background": "light"
     },
     "output_type": "display_data"
    }
   ],
   "source": [
    "az.plot_compare(out_waic)\n",
    "out_waic"
   ]
  }
 ],
 "metadata": {
  "interpreter": {
   "hash": "ac19442bcc8f5dc288b190133b5edcf2a2e303ca99c919856ca726c1985e039d"
  },
  "kernelspec": {
   "display_name": "Python 3.8.12 ('cmdstan')",
   "language": "python",
   "name": "python3"
  },
  "language_info": {
   "codemirror_mode": {
    "name": "ipython",
    "version": 3
   },
   "file_extension": ".py",
   "mimetype": "text/x-python",
   "name": "python",
   "nbconvert_exporter": "python",
   "pygments_lexer": "ipython3",
   "version": "3.8.12"
  },
  "orig_nbformat": 4
 },
 "nbformat": 4,
 "nbformat_minor": 2
}
